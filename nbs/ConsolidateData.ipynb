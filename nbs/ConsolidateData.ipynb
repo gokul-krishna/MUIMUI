{
 "cells": [
  {
   "cell_type": "code",
   "execution_count": 1,
   "metadata": {
    "ExecuteTime": {
     "end_time": "2019-04-06T03:02:44.742036Z",
     "start_time": "2019-04-06T03:02:44.190494Z"
    }
   },
   "outputs": [],
   "source": [
    "import pandas as pd"
   ]
  },
  {
   "cell_type": "code",
   "execution_count": 2,
   "metadata": {
    "ExecuteTime": {
     "end_time": "2019-04-06T03:03:20.298589Z",
     "start_time": "2019-04-06T03:03:20.261848Z"
    }
   },
   "outputs": [],
   "source": [
    "hm = pd.read_csv('../src/scraping/HM.csv')"
   ]
  },
  {
   "cell_type": "code",
   "execution_count": 3,
   "metadata": {
    "ExecuteTime": {
     "end_time": "2019-04-06T03:03:23.265380Z",
     "start_time": "2019-04-06T03:03:23.224561Z"
    }
   },
   "outputs": [
    {
     "data": {
      "text/html": [
       "<div>\n",
       "<style scoped>\n",
       "    .dataframe tbody tr th:only-of-type {\n",
       "        vertical-align: middle;\n",
       "    }\n",
       "\n",
       "    .dataframe tbody tr th {\n",
       "        vertical-align: top;\n",
       "    }\n",
       "\n",
       "    .dataframe thead th {\n",
       "        text-align: right;\n",
       "    }\n",
       "</style>\n",
       "<table border=\"1\" class=\"dataframe\">\n",
       "  <thead>\n",
       "    <tr style=\"text-align: right;\">\n",
       "      <th></th>\n",
       "      <th>prod_page_link</th>\n",
       "      <th>image_link</th>\n",
       "      <th>name</th>\n",
       "      <th>price</th>\n",
       "      <th>description</th>\n",
       "      <th>brand</th>\n",
       "    </tr>\n",
       "  </thead>\n",
       "  <tbody>\n",
       "    <tr>\n",
       "      <th>0</th>\n",
       "      <td>https://www2.hm.com/en_us/productpage.06364550...</td>\n",
       "      <td>http://lp2.hm.com/hmgoepprod?set=source[/07/25...</td>\n",
       "      <td>Straight-cut Jacket</td>\n",
       "      <td>34.99</td>\n",
       "      <td>Straight-cut jacket in woven fabric with notch...</td>\n",
       "      <td>H&amp;M</td>\n",
       "    </tr>\n",
       "    <tr>\n",
       "      <th>1</th>\n",
       "      <td>https://www2.hm.com/en_us/productpage.07554510...</td>\n",
       "      <td>http://lp2.hm.com/hmgoepprod?set=source[/27/f3...</td>\n",
       "      <td>Linen-blend Jacket</td>\n",
       "      <td>59.99</td>\n",
       "      <td>Gently fitted jacket in soft, woven fabric mad...</td>\n",
       "      <td>H&amp;M</td>\n",
       "    </tr>\n",
       "    <tr>\n",
       "      <th>2</th>\n",
       "      <td>https://www2.hm.com/en_us/productpage.07178790...</td>\n",
       "      <td>http://lp2.hm.com/hmgoepprod?set=source[/2c/3d...</td>\n",
       "      <td>Double-breasted Jacket</td>\n",
       "      <td>34.99</td>\n",
       "      <td>Longer, double-breasted jacket in woven fabric...</td>\n",
       "      <td>H&amp;M</td>\n",
       "    </tr>\n",
       "    <tr>\n",
       "      <th>3</th>\n",
       "      <td>https://www2.hm.com/en_us/productpage.07246260...</td>\n",
       "      <td>http://lp2.hm.com/hmgoepprod?set=source[/89/66...</td>\n",
       "      <td>Linen-blend Jacket</td>\n",
       "      <td>49.99</td>\n",
       "      <td>Gently fitted jacket in a linen and viscose bl...</td>\n",
       "      <td>H&amp;M</td>\n",
       "    </tr>\n",
       "    <tr>\n",
       "      <th>4</th>\n",
       "      <td>https://www2.hm.com/en_us/productpage.05686010...</td>\n",
       "      <td>http://lp2.hm.com/hmgoepprod?set=source[/c0/a1...</td>\n",
       "      <td>Fitted Blazer</td>\n",
       "      <td>34.99</td>\n",
       "      <td>Fitted blazer in woven fabric with notched lap...</td>\n",
       "      <td>H&amp;M</td>\n",
       "    </tr>\n",
       "  </tbody>\n",
       "</table>\n",
       "</div>"
      ],
      "text/plain": [
       "                                      prod_page_link  \\\n",
       "0  https://www2.hm.com/en_us/productpage.06364550...   \n",
       "1  https://www2.hm.com/en_us/productpage.07554510...   \n",
       "2  https://www2.hm.com/en_us/productpage.07178790...   \n",
       "3  https://www2.hm.com/en_us/productpage.07246260...   \n",
       "4  https://www2.hm.com/en_us/productpage.05686010...   \n",
       "\n",
       "                                          image_link                    name  \\\n",
       "0  http://lp2.hm.com/hmgoepprod?set=source[/07/25...     Straight-cut Jacket   \n",
       "1  http://lp2.hm.com/hmgoepprod?set=source[/27/f3...      Linen-blend Jacket   \n",
       "2  http://lp2.hm.com/hmgoepprod?set=source[/2c/3d...  Double-breasted Jacket   \n",
       "3  http://lp2.hm.com/hmgoepprod?set=source[/89/66...      Linen-blend Jacket   \n",
       "4  http://lp2.hm.com/hmgoepprod?set=source[/c0/a1...           Fitted Blazer   \n",
       "\n",
       "   price                                        description brand  \n",
       "0  34.99  Straight-cut jacket in woven fabric with notch...   H&M  \n",
       "1  59.99  Gently fitted jacket in soft, woven fabric mad...   H&M  \n",
       "2  34.99  Longer, double-breasted jacket in woven fabric...   H&M  \n",
       "3  49.99  Gently fitted jacket in a linen and viscose bl...   H&M  \n",
       "4  34.99  Fitted blazer in woven fabric with notched lap...   H&M  "
      ]
     },
     "execution_count": 3,
     "metadata": {},
     "output_type": "execute_result"
    }
   ],
   "source": [
    "hm.head()"
   ]
  },
  {
   "cell_type": "code",
   "execution_count": 4,
   "metadata": {
    "ExecuteTime": {
     "end_time": "2019-04-06T03:04:03.542802Z",
     "start_time": "2019-04-06T03:04:03.536820Z"
    }
   },
   "outputs": [
    {
     "data": {
      "text/plain": [
       "prod_page_link     object\n",
       "image_link         object\n",
       "name               object\n",
       "price             float64\n",
       "description        object\n",
       "brand              object\n",
       "dtype: object"
      ]
     },
     "execution_count": 4,
     "metadata": {},
     "output_type": "execute_result"
    }
   ],
   "source": [
    "hm.dtypes"
   ]
  },
  {
   "cell_type": "code",
   "execution_count": 5,
   "metadata": {
    "ExecuteTime": {
     "end_time": "2019-04-06T03:04:25.727848Z",
     "start_time": "2019-04-06T03:04:25.721975Z"
    }
   },
   "outputs": [
    {
     "data": {
      "text/plain": [
       "'http://lp2.hm.com/hmgoepprod?set=source[/07/25/07259d7912b6276118b89f437acdf685600f82ae.jpg],origin[dam],category[ladies_blazerswaistcoats_blazers],type[LOOKBOOK],res[m],hmver[1]&call=url[file:/product/main] '"
      ]
     },
     "execution_count": 5,
     "metadata": {},
     "output_type": "execute_result"
    }
   ],
   "source": [
    "hm.image_link[0]"
   ]
  },
  {
   "cell_type": "code",
   "execution_count": 7,
   "metadata": {
    "ExecuteTime": {
     "end_time": "2019-04-06T03:05:10.379224Z",
     "start_time": "2019-04-06T03:05:10.363630Z"
    }
   },
   "outputs": [
    {
     "data": {
      "text/plain": [
       "'http://lp2.hm.com/hmgoepprod?set=source[/8b/8a/8b8a6ece6241e06c684b9881552aceb3741e2041.jpg],origin[dam],category[ladies_tops_vests],type[LOOKBOOK],res[m],hmver[1]&call=url[file:/product/main] '"
      ]
     },
     "execution_count": 7,
     "metadata": {},
     "output_type": "execute_result"
    }
   ],
   "source": [
    "hm.image_link.values[-1]"
   ]
  },
  {
   "cell_type": "code",
   "execution_count": 9,
   "metadata": {
    "ExecuteTime": {
     "end_time": "2019-04-06T03:06:10.632174Z",
     "start_time": "2019-04-06T03:06:10.480314Z"
    }
   },
   "outputs": [],
   "source": [
    "macy = pd.read_csv('../src/scraping/macys_data_combined.csv')"
   ]
  },
  {
   "cell_type": "code",
   "execution_count": 10,
   "metadata": {
    "ExecuteTime": {
     "end_time": "2019-04-06T03:06:17.940649Z",
     "start_time": "2019-04-06T03:06:17.927623Z"
    }
   },
   "outputs": [
    {
     "data": {
      "text/html": [
       "<div>\n",
       "<style scoped>\n",
       "    .dataframe tbody tr th:only-of-type {\n",
       "        vertical-align: middle;\n",
       "    }\n",
       "\n",
       "    .dataframe tbody tr th {\n",
       "        vertical-align: top;\n",
       "    }\n",
       "\n",
       "    .dataframe thead th {\n",
       "        text-align: right;\n",
       "    }\n",
       "</style>\n",
       "<table border=\"1\" class=\"dataframe\">\n",
       "  <thead>\n",
       "    <tr style=\"text-align: right;\">\n",
       "      <th></th>\n",
       "      <th>Unnamed: 0</th>\n",
       "      <th>prod_page_link</th>\n",
       "      <th>image_link</th>\n",
       "      <th>name</th>\n",
       "      <th>price</th>\n",
       "      <th>description</th>\n",
       "      <th>brand</th>\n",
       "      <th>rating</th>\n",
       "    </tr>\n",
       "  </thead>\n",
       "  <tbody>\n",
       "    <tr>\n",
       "      <th>0</th>\n",
       "      <td>0</td>\n",
       "      <td>https://www.macys.com//shop/product/jm-collect...</td>\n",
       "      <td>https://slimages.macysassets.com/is/image/MCY/...</td>\n",
       "      <td>Printed Scoop-Neck Top, Created for Macy's</td>\n",
       "      <td>34.5</td>\n",
       "      <td>Complete your casual wardrobe with this wear-e...</td>\n",
       "      <td>JM Collection</td>\n",
       "      <td>3.0</td>\n",
       "    </tr>\n",
       "    <tr>\n",
       "      <th>1</th>\n",
       "      <td>1</td>\n",
       "      <td>https://www.macys.com//shop/product/jm-collect...</td>\n",
       "      <td>https://slimages.macysassets.com/is/image/MCY/...</td>\n",
       "      <td>Printed Scoop-Neck Top, Created for Macy's</td>\n",
       "      <td>34.5</td>\n",
       "      <td>Complete your casual wardrobe with this wear-e...</td>\n",
       "      <td>JM Collection</td>\n",
       "      <td>3.0</td>\n",
       "    </tr>\n",
       "    <tr>\n",
       "      <th>2</th>\n",
       "      <td>2</td>\n",
       "      <td>https://www.macys.com//shop/product/jm-collect...</td>\n",
       "      <td>https://slimages.macysassets.com/is/image/MCY/...</td>\n",
       "      <td>3/4-Sleeve Novelty Printed Jacquard Top, Creat...</td>\n",
       "      <td>44.5</td>\n",
       "      <td>Slip into this essential JM Collection top any...</td>\n",
       "      <td>JM Collection</td>\n",
       "      <td>0.0</td>\n",
       "    </tr>\n",
       "    <tr>\n",
       "      <th>3</th>\n",
       "      <td>3</td>\n",
       "      <td>https://www.macys.com//shop/product/jm-collect...</td>\n",
       "      <td>https://slimages.macysassets.com/is/image/MCY/...</td>\n",
       "      <td>3/4-Sleeve Novelty Printed Jacquard Top, Creat...</td>\n",
       "      <td>44.5</td>\n",
       "      <td>Slip into this essential JM Collection top any...</td>\n",
       "      <td>JM Collection</td>\n",
       "      <td>0.0</td>\n",
       "    </tr>\n",
       "    <tr>\n",
       "      <th>4</th>\n",
       "      <td>4</td>\n",
       "      <td>https://www.macys.com//shop/product/jm-collect...</td>\n",
       "      <td>https://slimages.macysassets.com/is/image/MCY/...</td>\n",
       "      <td>Printed T-Shirt, Created for Macy's</td>\n",
       "      <td>34.5</td>\n",
       "      <td>A fashionable print lends an upgraded look and...</td>\n",
       "      <td>JM Collection</td>\n",
       "      <td>0.0</td>\n",
       "    </tr>\n",
       "  </tbody>\n",
       "</table>\n",
       "</div>"
      ],
      "text/plain": [
       "   Unnamed: 0                                     prod_page_link  \\\n",
       "0           0  https://www.macys.com//shop/product/jm-collect...   \n",
       "1           1  https://www.macys.com//shop/product/jm-collect...   \n",
       "2           2  https://www.macys.com//shop/product/jm-collect...   \n",
       "3           3  https://www.macys.com//shop/product/jm-collect...   \n",
       "4           4  https://www.macys.com//shop/product/jm-collect...   \n",
       "\n",
       "                                          image_link  \\\n",
       "0  https://slimages.macysassets.com/is/image/MCY/...   \n",
       "1  https://slimages.macysassets.com/is/image/MCY/...   \n",
       "2  https://slimages.macysassets.com/is/image/MCY/...   \n",
       "3  https://slimages.macysassets.com/is/image/MCY/...   \n",
       "4  https://slimages.macysassets.com/is/image/MCY/...   \n",
       "\n",
       "                                                name price  \\\n",
       "0         Printed Scoop-Neck Top, Created for Macy's  34.5   \n",
       "1         Printed Scoop-Neck Top, Created for Macy's  34.5   \n",
       "2  3/4-Sleeve Novelty Printed Jacquard Top, Creat...  44.5   \n",
       "3  3/4-Sleeve Novelty Printed Jacquard Top, Creat...  44.5   \n",
       "4                Printed T-Shirt, Created for Macy's  34.5   \n",
       "\n",
       "                                         description          brand  rating  \n",
       "0  Complete your casual wardrobe with this wear-e...  JM Collection     3.0  \n",
       "1  Complete your casual wardrobe with this wear-e...  JM Collection     3.0  \n",
       "2  Slip into this essential JM Collection top any...  JM Collection     0.0  \n",
       "3  Slip into this essential JM Collection top any...  JM Collection     0.0  \n",
       "4  A fashionable print lends an upgraded look and...  JM Collection     0.0  "
      ]
     },
     "execution_count": 10,
     "metadata": {},
     "output_type": "execute_result"
    }
   ],
   "source": [
    "macy.head()"
   ]
  },
  {
   "cell_type": "code",
   "execution_count": 22,
   "metadata": {
    "ExecuteTime": {
     "end_time": "2019-04-06T03:17:03.822323Z",
     "start_time": "2019-04-06T03:17:03.808607Z"
    }
   },
   "outputs": [
    {
     "data": {
      "text/plain": [
       "'https://slimages.macysassets.com/is/image/MCY/products/7/optimized/12077607_fpx.tif?op_sharpen=1&wid=400&hei=489&fit=fit,1&$filtersm$&fmt=webp'"
      ]
     },
     "execution_count": 22,
     "metadata": {},
     "output_type": "execute_result"
    }
   ],
   "source": [
    "macy.image_link.values[0]"
   ]
  },
  {
   "cell_type": "code",
   "execution_count": 24,
   "metadata": {
    "ExecuteTime": {
     "end_time": "2019-04-06T03:17:24.615812Z",
     "start_time": "2019-04-06T03:17:24.602839Z"
    }
   },
   "outputs": [
    {
     "data": {
      "text/plain": [
       "'https://slimages.macysassets.com/is/image/MCY/products/1/optimized/10157991_fpx.tif?bgc=255,255,255&wid=224&qlt=90,0&layer=comp&op_sharpen=0&resMode=bicub&op_usm=0.7,1.0,0.5,0&fmt=jpeg'"
      ]
     },
     "execution_count": 24,
     "metadata": {},
     "output_type": "execute_result"
    }
   ],
   "source": [
    "macy.image_link.values[-1]"
   ]
  },
  {
   "cell_type": "code",
   "execution_count": 13,
   "metadata": {
    "ExecuteTime": {
     "end_time": "2019-04-06T03:14:55.225940Z",
     "start_time": "2019-04-06T03:14:55.222633Z"
    }
   },
   "outputs": [],
   "source": [
    "import numpy as np"
   ]
  },
  {
   "cell_type": "code",
   "execution_count": 15,
   "metadata": {
    "ExecuteTime": {
     "end_time": "2019-04-06T03:15:30.892248Z",
     "start_time": "2019-04-06T03:15:30.877910Z"
    }
   },
   "outputs": [],
   "source": [
    "def string2float(x):\n",
    "    return float(x.replace(',', ''))"
   ]
  },
  {
   "cell_type": "code",
   "execution_count": 17,
   "metadata": {
    "ExecuteTime": {
     "end_time": "2019-04-06T03:15:53.834572Z",
     "start_time": "2019-04-06T03:15:53.819643Z"
    }
   },
   "outputs": [],
   "source": [
    "macy.price = macy.price.apply(string2float)"
   ]
  },
  {
   "cell_type": "code",
   "execution_count": 18,
   "metadata": {
    "ExecuteTime": {
     "end_time": "2019-04-06T03:16:14.265819Z",
     "start_time": "2019-04-06T03:16:14.251253Z"
    }
   },
   "outputs": [
    {
     "data": {
      "text/plain": [
       "Unnamed: 0          int64\n",
       "prod_page_link     object\n",
       "image_link         object\n",
       "name               object\n",
       "price             float64\n",
       "description        object\n",
       "brand              object\n",
       "rating            float64\n",
       "dtype: object"
      ]
     },
     "execution_count": 18,
     "metadata": {},
     "output_type": "execute_result"
    }
   ],
   "source": [
    "macy.dtypes"
   ]
  },
  {
   "cell_type": "code",
   "execution_count": 107,
   "metadata": {
    "ExecuteTime": {
     "end_time": "2019-04-06T03:41:09.480636Z",
     "start_time": "2019-04-06T03:41:09.435541Z"
    }
   },
   "outputs": [],
   "source": [
    "tp = pd.read_csv('../src/scraping/topshopwithdesc.csv')"
   ]
  },
  {
   "cell_type": "code",
   "execution_count": 108,
   "metadata": {
    "ExecuteTime": {
     "end_time": "2019-04-06T03:41:09.906470Z",
     "start_time": "2019-04-06T03:41:09.885267Z"
    }
   },
   "outputs": [
    {
     "data": {
      "text/html": [
       "<div>\n",
       "<style scoped>\n",
       "    .dataframe tbody tr th:only-of-type {\n",
       "        vertical-align: middle;\n",
       "    }\n",
       "\n",
       "    .dataframe tbody tr th {\n",
       "        vertical-align: top;\n",
       "    }\n",
       "\n",
       "    .dataframe thead th {\n",
       "        text-align: right;\n",
       "    }\n",
       "</style>\n",
       "<table border=\"1\" class=\"dataframe\">\n",
       "  <thead>\n",
       "    <tr style=\"text-align: right;\">\n",
       "      <th></th>\n",
       "      <th>link</th>\n",
       "      <th>product_name</th>\n",
       "      <th>price</th>\n",
       "      <th>image_link</th>\n",
       "      <th>brand</th>\n",
       "      <th>desc</th>\n",
       "    </tr>\n",
       "  </thead>\n",
       "  <tbody>\n",
       "    <tr>\n",
       "      <th>0</th>\n",
       "      <td>http://us.topshop.com/en/tsus/product/clothing...</td>\n",
       "      <td>Check Peg Trousers</td>\n",
       "      <td>68.00</td>\n",
       "      <td>https://images.topshop.com/i/TopShop/TS16R06QC...</td>\n",
       "      <td>TopShop</td>\n",
       "      <td>Tap into the patterned look with these all ove...</td>\n",
       "    </tr>\n",
       "    <tr>\n",
       "      <th>1</th>\n",
       "      <td>http://us.topshop.com/en/tsus/product/clothing...</td>\n",
       "      <td>Scarf Hanky Top</td>\n",
       "      <td>48.00</td>\n",
       "      <td>https://images.topshop.com/i/TopShop/TS13R14QR...</td>\n",
       "      <td>TopShop</td>\n",
       "      <td>This scarf printed hanky top in red embraces u...</td>\n",
       "    </tr>\n",
       "    <tr>\n",
       "      <th>2</th>\n",
       "      <td>http://us.topshop.com/en/tsus/product/clothing...</td>\n",
       "      <td>Clip Buckle Pinafore</td>\n",
       "      <td>68.00</td>\n",
       "      <td>https://images.topshop.com/i/TopShop/TS05P81PW...</td>\n",
       "      <td>TopShop</td>\n",
       "      <td>This clip buckle denim pinafore is a modern mu...</td>\n",
       "    </tr>\n",
       "    <tr>\n",
       "      <th>3</th>\n",
       "      <td>http://us.topshop.com/en/tsus/product/clothing...</td>\n",
       "      <td>Mid Blue Laddered Hem Straight Jeans</td>\n",
       "      <td>80.00</td>\n",
       "      <td>https://images.topshop.com/i/TopShop/TS02G25QM...</td>\n",
       "      <td>TopShop</td>\n",
       "      <td>These high rise, straight leg jeans in authent...</td>\n",
       "    </tr>\n",
       "    <tr>\n",
       "      <th>4</th>\n",
       "      <td>http://us.topshop.com/en/tsus/product/clothing...</td>\n",
       "      <td>Giraffe Cami</td>\n",
       "      <td>35.00</td>\n",
       "      <td>https://images.topshop.com/i/TopShop/TS13A22QY...</td>\n",
       "      <td>TopShop</td>\n",
       "      <td>This all over giraffe camisole top does animal...</td>\n",
       "    </tr>\n",
       "  </tbody>\n",
       "</table>\n",
       "</div>"
      ],
      "text/plain": [
       "                                                link  \\\n",
       "0  http://us.topshop.com/en/tsus/product/clothing...   \n",
       "1  http://us.topshop.com/en/tsus/product/clothing...   \n",
       "2  http://us.topshop.com/en/tsus/product/clothing...   \n",
       "3  http://us.topshop.com/en/tsus/product/clothing...   \n",
       "4  http://us.topshop.com/en/tsus/product/clothing...   \n",
       "\n",
       "                           product_name  price  \\\n",
       "0                    Check Peg Trousers  68.00   \n",
       "1                       Scarf Hanky Top  48.00   \n",
       "2                  Clip Buckle Pinafore  68.00   \n",
       "3  Mid Blue Laddered Hem Straight Jeans  80.00   \n",
       "4                          Giraffe Cami  35.00   \n",
       "\n",
       "                                          image_link    brand  \\\n",
       "0  https://images.topshop.com/i/TopShop/TS16R06QC...  TopShop   \n",
       "1  https://images.topshop.com/i/TopShop/TS13R14QR...  TopShop   \n",
       "2  https://images.topshop.com/i/TopShop/TS05P81PW...  TopShop   \n",
       "3  https://images.topshop.com/i/TopShop/TS02G25QM...  TopShop   \n",
       "4  https://images.topshop.com/i/TopShop/TS13A22QY...  TopShop   \n",
       "\n",
       "                                                desc  \n",
       "0  Tap into the patterned look with these all ove...  \n",
       "1  This scarf printed hanky top in red embraces u...  \n",
       "2  This clip buckle denim pinafore is a modern mu...  \n",
       "3  These high rise, straight leg jeans in authent...  \n",
       "4  This all over giraffe camisole top does animal...  "
      ]
     },
     "execution_count": 108,
     "metadata": {},
     "output_type": "execute_result"
    }
   ],
   "source": [
    "tp.head()"
   ]
  },
  {
   "cell_type": "code",
   "execution_count": 109,
   "metadata": {
    "ExecuteTime": {
     "end_time": "2019-04-06T03:41:11.382451Z",
     "start_time": "2019-04-06T03:41:11.380001Z"
    }
   },
   "outputs": [],
   "source": [
    "import re"
   ]
  },
  {
   "cell_type": "code",
   "execution_count": 110,
   "metadata": {
    "ExecuteTime": {
     "end_time": "2019-04-06T03:41:16.800292Z",
     "start_time": "2019-04-06T03:41:16.789964Z"
    }
   },
   "outputs": [],
   "source": [
    "def string2float(x):\n",
    "    return float(re.sub(r'[^\\d.]+', '', x))"
   ]
  },
  {
   "cell_type": "code",
   "execution_count": 111,
   "metadata": {
    "ExecuteTime": {
     "end_time": "2019-04-06T03:41:17.478144Z",
     "start_time": "2019-04-06T03:41:17.464404Z"
    }
   },
   "outputs": [
    {
     "data": {
      "text/plain": [
       "link            object\n",
       "product_name    object\n",
       "price           object\n",
       "image_link      object\n",
       "brand           object\n",
       "desc            object\n",
       "dtype: object"
      ]
     },
     "execution_count": 111,
     "metadata": {},
     "output_type": "execute_result"
    }
   ],
   "source": [
    "tp.dtypes"
   ]
  },
  {
   "cell_type": "code",
   "execution_count": 112,
   "metadata": {
    "ExecuteTime": {
     "end_time": "2019-04-06T03:41:18.761162Z",
     "start_time": "2019-04-06T03:41:18.756377Z"
    }
   },
   "outputs": [],
   "source": [
    "tp = tp[~tp.price.isna()]"
   ]
  },
  {
   "cell_type": "code",
   "execution_count": 113,
   "metadata": {
    "ExecuteTime": {
     "end_time": "2019-04-06T03:41:20.006778Z",
     "start_time": "2019-04-06T03:41:19.815541Z"
    }
   },
   "outputs": [],
   "source": [
    "tp.price = tp.price.apply(string2float)"
   ]
  },
  {
   "cell_type": "code",
   "execution_count": 114,
   "metadata": {
    "ExecuteTime": {
     "end_time": "2019-04-06T03:41:21.391050Z",
     "start_time": "2019-04-06T03:41:21.385771Z"
    }
   },
   "outputs": [
    {
     "data": {
      "text/plain": [
       "link             object\n",
       "product_name     object\n",
       "price           float64\n",
       "image_link       object\n",
       "brand            object\n",
       "desc             object\n",
       "dtype: object"
      ]
     },
     "execution_count": 114,
     "metadata": {},
     "output_type": "execute_result"
    }
   ],
   "source": [
    "tp.dtypes"
   ]
  },
  {
   "cell_type": "code",
   "execution_count": 115,
   "metadata": {
    "ExecuteTime": {
     "end_time": "2019-04-06T03:41:23.098978Z",
     "start_time": "2019-04-06T03:41:23.094648Z"
    }
   },
   "outputs": [
    {
     "data": {
      "text/plain": [
       "'https://images.topshop.com/i/TopShop/TS16R06QCNM_M_1.jpg?$Large$'"
      ]
     },
     "execution_count": 115,
     "metadata": {},
     "output_type": "execute_result"
    }
   ],
   "source": [
    "tp.image_link[0]"
   ]
  },
  {
   "cell_type": "code",
   "execution_count": 116,
   "metadata": {
    "ExecuteTime": {
     "end_time": "2019-04-06T03:41:23.715787Z",
     "start_time": "2019-04-06T03:41:23.705070Z"
    }
   },
   "outputs": [
    {
     "data": {
      "text/plain": [
       "'https://images.topshop.com/i/TopShop/TS43T02LDND_M_1.jpg?$Large$'"
      ]
     },
     "execution_count": 116,
     "metadata": {},
     "output_type": "execute_result"
    }
   ],
   "source": [
    "tp.image_link.values[-1]"
   ]
  },
  {
   "cell_type": "code",
   "execution_count": 35,
   "metadata": {
    "ExecuteTime": {
     "end_time": "2019-04-06T03:24:53.498547Z",
     "start_time": "2019-04-06T03:24:53.425866Z"
    }
   },
   "outputs": [],
   "source": [
    "mn = pd.read_csv('../src/scraping/mango (2).csv')"
   ]
  },
  {
   "cell_type": "code",
   "execution_count": 36,
   "metadata": {
    "ExecuteTime": {
     "end_time": "2019-04-06T03:24:56.983884Z",
     "start_time": "2019-04-06T03:24:56.968264Z"
    }
   },
   "outputs": [
    {
     "data": {
      "text/html": [
       "<div>\n",
       "<style scoped>\n",
       "    .dataframe tbody tr th:only-of-type {\n",
       "        vertical-align: middle;\n",
       "    }\n",
       "\n",
       "    .dataframe tbody tr th {\n",
       "        vertical-align: top;\n",
       "    }\n",
       "\n",
       "    .dataframe thead th {\n",
       "        text-align: right;\n",
       "    }\n",
       "</style>\n",
       "<table border=\"1\" class=\"dataframe\">\n",
       "  <thead>\n",
       "    <tr style=\"text-align: right;\">\n",
       "      <th></th>\n",
       "      <th>web-scraper-order</th>\n",
       "      <th>web-scraper-start-url</th>\n",
       "      <th>page_link</th>\n",
       "      <th>page_link-href</th>\n",
       "      <th>product</th>\n",
       "      <th>product-href</th>\n",
       "      <th>name</th>\n",
       "      <th>price</th>\n",
       "      <th>description</th>\n",
       "      <th>image_url-src</th>\n",
       "    </tr>\n",
       "  </thead>\n",
       "  <tbody>\n",
       "    <tr>\n",
       "      <th>0</th>\n",
       "      <td>1554008449-3815</td>\n",
       "      <td>https://shop.mango.com/us/women</td>\n",
       "      <td>Rompers</td>\n",
       "      <td>https://shop.mango.com/redirect.faces?op=conta...</td>\n",
       "      <td>d\\n                      d\\n                  ...</td>\n",
       "      <td>https://shop.mango.com/us/women/jumpsuits-long...</td>\n",
       "      <td>Ruched long jumpsuit</td>\n",
       "      <td>$99.99</td>\n",
       "      <td>Description Long design. Short batwing sleeve....</td>\n",
       "      <td>//st.mngbcn.com/rcs/pics/static/T4/fotos/outfi...</td>\n",
       "    </tr>\n",
       "    <tr>\n",
       "      <th>1</th>\n",
       "      <td>1554007645-2795</td>\n",
       "      <td>https://shop.mango.com/us/women</td>\n",
       "      <td>T-shirts and tops</td>\n",
       "      <td>https://shop.mango.com/redirect.faces?op=conta...</td>\n",
       "      <td>d\\n                      d\\n                  ...</td>\n",
       "      <td>https://shop.mango.com/us/women/t-shirts-and-t...</td>\n",
       "      <td>Halter neck top</td>\n",
       "      <td>$39.99</td>\n",
       "      <td>Description Fine-knit fabric. Halterneck. Slee...</td>\n",
       "      <td>//st.mngbcn.com/rcs/pics/static/T4/fotos/outfi...</td>\n",
       "    </tr>\n",
       "    <tr>\n",
       "      <th>2</th>\n",
       "      <td>1554008118-3397</td>\n",
       "      <td>https://shop.mango.com/us/women</td>\n",
       "      <td>Cardigans and sweaters</td>\n",
       "      <td>https://shop.mango.com/redirect.faces?op=conta...</td>\n",
       "      <td>d\\n                      d\\n                  ...</td>\n",
       "      <td>https://shop.mango.com/us/women/cardigans-and-...</td>\n",
       "      <td>Ribbed neck sweater</td>\n",
       "      <td>$69.99</td>\n",
       "      <td>Description Funnel neck. Ribbed collar. Long s...</td>\n",
       "      <td>//st.mngbcn.com/rcs/pics/static/T4/fotos/S20/4...</td>\n",
       "    </tr>\n",
       "    <tr>\n",
       "      <th>3</th>\n",
       "      <td>1554008770-4248</td>\n",
       "      <td>https://shop.mango.com/us/women</td>\n",
       "      <td>Dresses</td>\n",
       "      <td>https://shop.mango.com/redirect.faces?op=conta...</td>\n",
       "      <td>d\\n                      d\\n                  ...</td>\n",
       "      <td>https://shop.mango.com/us/women/dresses-midi/v...</td>\n",
       "      <td>Vichy check dress</td>\n",
       "      <td>$99.99</td>\n",
       "      <td>Description Cotton fabric. Flared design. V-ne...</td>\n",
       "      <td>//st.mngbcn.com/rcs/pics/static/T4/fotos/S20/4...</td>\n",
       "    </tr>\n",
       "    <tr>\n",
       "      <th>4</th>\n",
       "      <td>1554009045-4629</td>\n",
       "      <td>https://shop.mango.com/us/women</td>\n",
       "      <td>Suits</td>\n",
       "      <td>https://shop.mango.com/redirect.faces?op=conta...</td>\n",
       "      <td>d\\n                      d\\n                  ...</td>\n",
       "      <td>https://shop.mango.com/us/women/jackets-blazer...</td>\n",
       "      <td>Essential structured blazer</td>\n",
       "      <td>$59.99</td>\n",
       "      <td>Description Structured design. Long design. La...</td>\n",
       "      <td>//st.mngbcn.com/rcs/pics/static/T4/fotos/S20/4...</td>\n",
       "    </tr>\n",
       "  </tbody>\n",
       "</table>\n",
       "</div>"
      ],
      "text/plain": [
       "  web-scraper-order            web-scraper-start-url               page_link  \\\n",
       "0   1554008449-3815  https://shop.mango.com/us/women                 Rompers   \n",
       "1   1554007645-2795  https://shop.mango.com/us/women       T-shirts and tops   \n",
       "2   1554008118-3397  https://shop.mango.com/us/women  Cardigans and sweaters   \n",
       "3   1554008770-4248  https://shop.mango.com/us/women                 Dresses   \n",
       "4   1554009045-4629  https://shop.mango.com/us/women                   Suits   \n",
       "\n",
       "                                      page_link-href  \\\n",
       "0  https://shop.mango.com/redirect.faces?op=conta...   \n",
       "1  https://shop.mango.com/redirect.faces?op=conta...   \n",
       "2  https://shop.mango.com/redirect.faces?op=conta...   \n",
       "3  https://shop.mango.com/redirect.faces?op=conta...   \n",
       "4  https://shop.mango.com/redirect.faces?op=conta...   \n",
       "\n",
       "                                             product  \\\n",
       "0  d\\n                      d\\n                  ...   \n",
       "1  d\\n                      d\\n                  ...   \n",
       "2  d\\n                      d\\n                  ...   \n",
       "3  d\\n                      d\\n                  ...   \n",
       "4  d\\n                      d\\n                  ...   \n",
       "\n",
       "                                        product-href  \\\n",
       "0  https://shop.mango.com/us/women/jumpsuits-long...   \n",
       "1  https://shop.mango.com/us/women/t-shirts-and-t...   \n",
       "2  https://shop.mango.com/us/women/cardigans-and-...   \n",
       "3  https://shop.mango.com/us/women/dresses-midi/v...   \n",
       "4  https://shop.mango.com/us/women/jackets-blazer...   \n",
       "\n",
       "                          name   price  \\\n",
       "0         Ruched long jumpsuit  $99.99   \n",
       "1              Halter neck top  $39.99   \n",
       "2          Ribbed neck sweater  $69.99   \n",
       "3            Vichy check dress  $99.99   \n",
       "4  Essential structured blazer  $59.99   \n",
       "\n",
       "                                         description  \\\n",
       "0  Description Long design. Short batwing sleeve....   \n",
       "1  Description Fine-knit fabric. Halterneck. Slee...   \n",
       "2  Description Funnel neck. Ribbed collar. Long s...   \n",
       "3  Description Cotton fabric. Flared design. V-ne...   \n",
       "4  Description Structured design. Long design. La...   \n",
       "\n",
       "                                       image_url-src  \n",
       "0  //st.mngbcn.com/rcs/pics/static/T4/fotos/outfi...  \n",
       "1  //st.mngbcn.com/rcs/pics/static/T4/fotos/outfi...  \n",
       "2  //st.mngbcn.com/rcs/pics/static/T4/fotos/S20/4...  \n",
       "3  //st.mngbcn.com/rcs/pics/static/T4/fotos/S20/4...  \n",
       "4  //st.mngbcn.com/rcs/pics/static/T4/fotos/S20/4...  "
      ]
     },
     "execution_count": 36,
     "metadata": {},
     "output_type": "execute_result"
    }
   ],
   "source": [
    "mn.head()"
   ]
  },
  {
   "cell_type": "code",
   "execution_count": 41,
   "metadata": {
    "ExecuteTime": {
     "end_time": "2019-04-06T03:27:09.560420Z",
     "start_time": "2019-04-06T03:27:09.544838Z"
    }
   },
   "outputs": [],
   "source": [
    "mn.price = mn.price.apply(string2float)"
   ]
  },
  {
   "cell_type": "code",
   "execution_count": 44,
   "metadata": {
    "ExecuteTime": {
     "end_time": "2019-04-06T03:27:40.513575Z",
     "start_time": "2019-04-06T03:27:40.496972Z"
    }
   },
   "outputs": [
    {
     "data": {
      "text/plain": [
       "web-scraper-order         object\n",
       "web-scraper-start-url     object\n",
       "page_link                 object\n",
       "page_link-href            object\n",
       "product                   object\n",
       "product-href              object\n",
       "name                      object\n",
       "price                    float64\n",
       "description               object\n",
       "image_url-src             object\n",
       "dtype: object"
      ]
     },
     "execution_count": 44,
     "metadata": {},
     "output_type": "execute_result"
    }
   ],
   "source": [
    "mn.dtypes"
   ]
  },
  {
   "cell_type": "code",
   "execution_count": 49,
   "metadata": {
    "ExecuteTime": {
     "end_time": "2019-04-06T03:29:12.093044Z",
     "start_time": "2019-04-06T03:29:12.074345Z"
    }
   },
   "outputs": [],
   "source": [
    "mn['image_url-src'] = mn['image_url-src'].apply(lambda x: x[2:])"
   ]
  },
  {
   "cell_type": "code",
   "execution_count": 68,
   "metadata": {
    "ExecuteTime": {
     "end_time": "2019-04-06T03:33:04.114657Z",
     "start_time": "2019-04-06T03:33:04.104728Z"
    }
   },
   "outputs": [],
   "source": [
    "columns = ['product_name', 'page_link', 'price', 'description', 'image_link', 'brand']"
   ]
  },
  {
   "cell_type": "code",
   "execution_count": 80,
   "metadata": {
    "ExecuteTime": {
     "end_time": "2019-04-06T03:35:19.590731Z",
     "start_time": "2019-04-06T03:35:19.583280Z"
    }
   },
   "outputs": [],
   "source": [
    "df = pd.DataFrame(columns=columns)"
   ]
  },
  {
   "cell_type": "code",
   "execution_count": 71,
   "metadata": {
    "ExecuteTime": {
     "end_time": "2019-04-06T03:33:59.406374Z",
     "start_time": "2019-04-06T03:33:59.400830Z"
    }
   },
   "outputs": [],
   "source": [
    "hm.columns = ['page_link', 'image_link', 'product_name', 'price', 'description', 'brand']"
   ]
  },
  {
   "cell_type": "code",
   "execution_count": 81,
   "metadata": {
    "ExecuteTime": {
     "end_time": "2019-04-06T03:35:27.120639Z",
     "start_time": "2019-04-06T03:35:27.111202Z"
    }
   },
   "outputs": [],
   "source": [
    "df = pd.concat([df, hm[columns]])"
   ]
  },
  {
   "cell_type": "code",
   "execution_count": 86,
   "metadata": {
    "ExecuteTime": {
     "end_time": "2019-04-06T03:36:22.842525Z",
     "start_time": "2019-04-06T03:36:22.838027Z"
    }
   },
   "outputs": [],
   "source": [
    "macy.columns = ['Unnamed: 0', 'page_link', 'image_link', 'product_name', 'price', 'description', 'brand', 'rating']"
   ]
  },
  {
   "cell_type": "code",
   "execution_count": 88,
   "metadata": {
    "ExecuteTime": {
     "end_time": "2019-04-06T03:37:05.331218Z",
     "start_time": "2019-04-06T03:37:05.319317Z"
    }
   },
   "outputs": [],
   "source": [
    "df = pd.concat([df, macy[columns]])"
   ]
  },
  {
   "cell_type": "code",
   "execution_count": 123,
   "metadata": {
    "ExecuteTime": {
     "end_time": "2019-04-06T03:42:24.303193Z",
     "start_time": "2019-04-06T03:42:24.299095Z"
    }
   },
   "outputs": [],
   "source": [
    "tp.columns = ['page_link', 'product_name', 'price', 'image_link', 'brand', 'description']"
   ]
  },
  {
   "cell_type": "code",
   "execution_count": 126,
   "metadata": {
    "ExecuteTime": {
     "end_time": "2019-04-06T03:42:35.302179Z",
     "start_time": "2019-04-06T03:42:35.284681Z"
    }
   },
   "outputs": [],
   "source": [
    "df = pd.concat([df, tp[columns]])"
   ]
  },
  {
   "cell_type": "code",
   "execution_count": 142,
   "metadata": {
    "ExecuteTime": {
     "end_time": "2019-04-06T04:33:34.095341Z",
     "start_time": "2019-04-06T04:33:34.091164Z"
    }
   },
   "outputs": [],
   "source": [
    "mn.columns = ['web-scraper-order', 'web-scraper-start-url', 'brand',\n",
    "              'page_dummy', 'product', 'page_link', 'product_name', 'price',\n",
    "              'description', 'image_link']"
   ]
  },
  {
   "cell_type": "code",
   "execution_count": 144,
   "metadata": {
    "ExecuteTime": {
     "end_time": "2019-04-06T04:33:39.897409Z",
     "start_time": "2019-04-06T04:33:39.885477Z"
    }
   },
   "outputs": [],
   "source": [
    "df = pd.concat([df, mn[columns]])"
   ]
  },
  {
   "cell_type": "code",
   "execution_count": 145,
   "metadata": {
    "ExecuteTime": {
     "end_time": "2019-04-06T04:33:40.953753Z",
     "start_time": "2019-04-06T04:33:40.941393Z"
    }
   },
   "outputs": [
    {
     "data": {
      "text/html": [
       "<div>\n",
       "<style scoped>\n",
       "    .dataframe tbody tr th:only-of-type {\n",
       "        vertical-align: middle;\n",
       "    }\n",
       "\n",
       "    .dataframe tbody tr th {\n",
       "        vertical-align: top;\n",
       "    }\n",
       "\n",
       "    .dataframe thead th {\n",
       "        text-align: right;\n",
       "    }\n",
       "</style>\n",
       "<table border=\"1\" class=\"dataframe\">\n",
       "  <thead>\n",
       "    <tr style=\"text-align: right;\">\n",
       "      <th></th>\n",
       "      <th>product_name</th>\n",
       "      <th>page_link</th>\n",
       "      <th>price</th>\n",
       "      <th>description</th>\n",
       "      <th>image_link</th>\n",
       "      <th>brand</th>\n",
       "    </tr>\n",
       "  </thead>\n",
       "  <tbody>\n",
       "    <tr>\n",
       "      <th>3853</th>\n",
       "      <td>Double-breasted wool coat</td>\n",
       "      <td>https://shop.mango.com/us/women/coats-coats/do...</td>\n",
       "      <td>119.99</td>\n",
       "      <td>Description Unstructured design. Convertible c...</td>\n",
       "      <td>st.mngbcn.com/rcs/pics/static/T4/fotos/S20/410...</td>\n",
       "      <td>Coats</td>\n",
       "    </tr>\n",
       "    <tr>\n",
       "      <th>3854</th>\n",
       "      <td>Linen-blend striped jumpsuit</td>\n",
       "      <td>https://shop.mango.com/us/women/jumpsuits-long...</td>\n",
       "      <td>99.99</td>\n",
       "      <td>Description Linen fabric. Long design. Striped...</td>\n",
       "      <td>st.mngbcn.com/rcs/pics/static/T4/fotos/outfit/...</td>\n",
       "      <td>Rompers</td>\n",
       "    </tr>\n",
       "    <tr>\n",
       "      <th>3855</th>\n",
       "      <td>Strap linen top</td>\n",
       "      <td>https://shop.mango.com/us/women/shirts-tops/st...</td>\n",
       "      <td>45.99</td>\n",
       "      <td>Description Linen fabric. Wide straps. Square ...</td>\n",
       "      <td>st.mngbcn.com/rcs/pics/static/T4/fotos/S20/430...</td>\n",
       "      <td>Shirts</td>\n",
       "    </tr>\n",
       "    <tr>\n",
       "      <th>3856</th>\n",
       "      <td>Striped suit blazer</td>\n",
       "      <td>https://shop.mango.com/us/women/jackets-blazer...</td>\n",
       "      <td>149.99</td>\n",
       "      <td>Description Structured design. Convertible col...</td>\n",
       "      <td>st.mngbcn.com/rcs/pics/static/T4/fotos/S20/410...</td>\n",
       "      <td>Suits</td>\n",
       "    </tr>\n",
       "    <tr>\n",
       "      <th>3857</th>\n",
       "      <td>Modal-blend suit blazer</td>\n",
       "      <td>https://shop.mango.com/us/women/jackets-blazer...</td>\n",
       "      <td>119.99</td>\n",
       "      <td>Description Structured design. Modal fabric. C...</td>\n",
       "      <td>st.mngbcn.com/rcs/pics/static/T4/fotos/S20/410...</td>\n",
       "      <td>Jackets</td>\n",
       "    </tr>\n",
       "  </tbody>\n",
       "</table>\n",
       "</div>"
      ],
      "text/plain": [
       "                      product_name  \\\n",
       "3853     Double-breasted wool coat   \n",
       "3854  Linen-blend striped jumpsuit   \n",
       "3855               Strap linen top   \n",
       "3856           Striped suit blazer   \n",
       "3857       Modal-blend suit blazer   \n",
       "\n",
       "                                              page_link   price  \\\n",
       "3853  https://shop.mango.com/us/women/coats-coats/do...  119.99   \n",
       "3854  https://shop.mango.com/us/women/jumpsuits-long...   99.99   \n",
       "3855  https://shop.mango.com/us/women/shirts-tops/st...   45.99   \n",
       "3856  https://shop.mango.com/us/women/jackets-blazer...  149.99   \n",
       "3857  https://shop.mango.com/us/women/jackets-blazer...  119.99   \n",
       "\n",
       "                                            description  \\\n",
       "3853  Description Unstructured design. Convertible c...   \n",
       "3854  Description Linen fabric. Long design. Striped...   \n",
       "3855  Description Linen fabric. Wide straps. Square ...   \n",
       "3856  Description Structured design. Convertible col...   \n",
       "3857  Description Structured design. Modal fabric. C...   \n",
       "\n",
       "                                             image_link    brand  \n",
       "3853  st.mngbcn.com/rcs/pics/static/T4/fotos/S20/410...    Coats  \n",
       "3854  st.mngbcn.com/rcs/pics/static/T4/fotos/outfit/...  Rompers  \n",
       "3855  st.mngbcn.com/rcs/pics/static/T4/fotos/S20/430...   Shirts  \n",
       "3856  st.mngbcn.com/rcs/pics/static/T4/fotos/S20/410...    Suits  \n",
       "3857  st.mngbcn.com/rcs/pics/static/T4/fotos/S20/410...  Jackets  "
      ]
     },
     "execution_count": 145,
     "metadata": {},
     "output_type": "execute_result"
    }
   ],
   "source": [
    "df.tail()"
   ]
  },
  {
   "cell_type": "code",
   "execution_count": 147,
   "metadata": {
    "ExecuteTime": {
     "end_time": "2019-04-06T04:34:02.756194Z",
     "start_time": "2019-04-06T04:34:02.748444Z"
    }
   },
   "outputs": [],
   "source": [
    "df.reset_index(drop=True, inplace=True)"
   ]
  },
  {
   "cell_type": "code",
   "execution_count": 148,
   "metadata": {
    "ExecuteTime": {
     "end_time": "2019-04-06T04:34:06.233736Z",
     "start_time": "2019-04-06T04:34:06.220733Z"
    }
   },
   "outputs": [
    {
     "data": {
      "text/plain": [
       "(33222, 6)"
      ]
     },
     "execution_count": 148,
     "metadata": {},
     "output_type": "execute_result"
    }
   ],
   "source": [
    "df.shape"
   ]
  },
  {
   "cell_type": "code",
   "execution_count": 149,
   "metadata": {
    "ExecuteTime": {
     "end_time": "2019-04-06T04:34:35.824738Z",
     "start_time": "2019-04-06T04:34:35.501500Z"
    }
   },
   "outputs": [],
   "source": [
    "df.to_csv('../src/scraping/consolidated.csv')"
   ]
  },
  {
   "cell_type": "code",
   "execution_count": null,
   "metadata": {},
   "outputs": [],
   "source": []
  }
 ],
 "metadata": {
  "kernelspec": {
   "display_name": "muimui",
   "language": "python",
   "name": "myenv"
  },
  "language_info": {
   "codemirror_mode": {
    "name": "ipython",
    "version": 3
   },
   "file_extension": ".py",
   "mimetype": "text/x-python",
   "name": "python",
   "nbconvert_exporter": "python",
   "pygments_lexer": "ipython3",
   "version": "3.7.1"
  },
  "toc": {
   "base_numbering": 1,
   "nav_menu": {},
   "number_sections": true,
   "sideBar": true,
   "skip_h1_title": false,
   "title_cell": "Table of Contents",
   "title_sidebar": "Contents",
   "toc_cell": false,
   "toc_position": {},
   "toc_section_display": true,
   "toc_window_display": false
  }
 },
 "nbformat": 4,
 "nbformat_minor": 2
}
