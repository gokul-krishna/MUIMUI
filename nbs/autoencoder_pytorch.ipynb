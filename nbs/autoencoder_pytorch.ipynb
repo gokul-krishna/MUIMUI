{
  "nbformat": 4,
  "nbformat_minor": 0,
  "metadata": {
    "colab": {
      "name": "autoencoder_pytorch.ipynb",
      "version": "0.3.2",
      "provenance": []
    },
    "kernelspec": {
      "name": "python3",
      "display_name": "Python 3"
    }
  },
  "cells": [
    {
      "cell_type": "code",
      "metadata": {
        "id": "XG7LXrR6jMHm",
        "colab_type": "code",
        "colab": {}
      },
      "source": [
        "import torch\n",
        "import torch.utils.data\n",
        "import torch.nn as nn\n",
        "import torch.optim as optim\n",
        "from torch.autograd import Variable\n",
        "from torchvision import transforms\n",
        "import matplotlib.pyplot as plt\n",
        "import time\n",
        "from glob import glob\n",
        "import numpy as np\n",
        "from PIL import Image\n",
        "import torchvision"
      ],
      "execution_count": 0,
      "outputs": []
    },
    {
      "cell_type": "code",
      "metadata": {
        "id": "UF-cH_mijP8t",
        "colab_type": "code",
        "colab": {}
      },
      "source": [
        "import torch\n",
        "import torchvision\n",
        "from torch import nn\n",
        "from torch.autograd import Variable\n",
        "from torch.utils.data import DataLoader\n",
        "from torchvision import transforms\n",
        "from torchvision.utils import save_image\n",
        "from torchvision.datasets import MNIST\n",
        "from PIL import Image\n",
        "import os\n",
        "from pathlib import Path"
      ],
      "execution_count": 0,
      "outputs": []
    },
    {
      "cell_type": "code",
      "metadata": {
        "id": "MnbQuJlTjYqd",
        "colab_type": "code",
        "colab": {}
      },
      "source": [
        "from torch.utils.data import Dataset, DataLoader"
      ],
      "execution_count": 0,
      "outputs": []
    },
    {
      "cell_type": "code",
      "metadata": {
        "id": "prc3yyPUja7v",
        "colab_type": "code",
        "colab": {}
      },
      "source": [
        "class VAEDataset(Dataset):\n",
        "    def __init__(self, fpath):\n",
        "        self.fnames = list(Path(fpath).iterdir())\n",
        "        self.num_files = len(self.fnames)\n",
        "        \n",
        "    def __len__(self):\n",
        "        return self.num_files\n",
        "    \n",
        "    def __getitem__(self, index):\n",
        "        fname = str(self.fnames[index])\n",
        "        x = imread(fname)\n",
        "        x = resize(x)\n",
        "        x = totensor(x)\n",
        "        return x, x"
      ],
      "execution_count": 0,
      "outputs": []
    },
    {
      "cell_type": "code",
      "metadata": {
        "id": "XEbTREHljdeS",
        "colab_type": "code",
        "colab": {}
      },
      "source": [
        "def imread(fname):\n",
        "    return Image.open(fname)"
      ],
      "execution_count": 0,
      "outputs": []
    },
    {
      "cell_type": "code",
      "metadata": {
        "id": "KNxa5hRDjiC0",
        "colab_type": "code",
        "colab": {}
      },
      "source": [
        "from torch.utils.data import Dataset, DataLoader"
      ],
      "execution_count": 0,
      "outputs": []
    },
    {
      "cell_type": "markdown",
      "metadata": {
        "id": "UJwF-tTC8-33",
        "colab_type": "text"
      },
      "source": [
        "No need to run the following two lines, This is just for google colab."
      ]
    },
    {
      "cell_type": "code",
      "metadata": {
        "id": "brMSsx6Wjpkg",
        "colab_type": "code",
        "colab": {
          "base_uri": "https://localhost:8080/",
          "height": 34
        },
        "outputId": "c4dd2db3-b763-4876-a770-f298f494b4ec"
      },
      "source": [
        "from google.colab import drive\n",
        "drive.mount('/content/drive')"
      ],
      "execution_count": 7,
      "outputs": [
        {
          "output_type": "stream",
          "text": [
            "Drive already mounted at /content/drive; to attempt to forcibly remount, call drive.mount(\"/content/drive\", force_remount=True).\n"
          ],
          "name": "stdout"
        }
      ]
    },
    {
      "cell_type": "code",
      "metadata": {
        "id": "8m-VyxQgjtDY",
        "colab_type": "code",
        "colab": {
          "base_uri": "https://localhost:8080/",
          "height": 136
        },
        "outputId": "ca71481e-bee9-49f6-8e62-e6962599d80a"
      },
      "source": [
        "!ls \"/content/drive/My Drive\""
      ],
      "execution_count": 8,
      "outputs": [
        {
          "output_type": "stream",
          "text": [
            " Ag_Census_Map_data_07172015.gsheet  'SD Travel Plan.gdoc'\n",
            "'Colab Notebooks'\t\t      test\n",
            " data\t\t\t\t     '无标题文档 (1).gdoc'\n",
            " data.zip\t\t\t     '无标题文档 (2).gdoc'\n",
            " draft.gdoc\t\t\t      无标题文档.gdoc\n",
            " ikea.gdoc\t\t\t      量量.gsheet\n",
            " imgs\n"
          ],
          "name": "stdout"
        }
      ]
    },
    {
      "cell_type": "markdown",
      "metadata": {
        "id": "G4K1dN7R9G9f",
        "colab_type": "text"
      },
      "source": [
        "1. Load the data"
      ]
    },
    {
      "cell_type": "code",
      "metadata": {
        "id": "EfEAyOLlj3zU",
        "colab_type": "code",
        "colab": {}
      },
      "source": [
        "train_ds = VAEDataset('/content/drive/My Drive/test')"
      ],
      "execution_count": 0,
      "outputs": []
    },
    {
      "cell_type": "code",
      "metadata": {
        "id": "rqRyP_3Pt_iy",
        "colab_type": "code",
        "colab": {
          "base_uri": "https://localhost:8080/",
          "height": 34
        },
        "outputId": "db535da8-8cd3-4f84-88ff-f88b1ad7c5fa"
      },
      "source": [
        "len(train_ds)"
      ],
      "execution_count": 10,
      "outputs": [
        {
          "output_type": "execute_result",
          "data": {
            "text/plain": [
              "2202"
            ]
          },
          "metadata": {
            "tags": []
          },
          "execution_count": 10
        }
      ]
    },
    {
      "cell_type": "code",
      "metadata": {
        "id": "O_38hEVh847E",
        "colab_type": "code",
        "colab": {}
      },
      "source": [
        "learning_rate = 1e-3\n",
        "batch_size = len(train_ds)"
      ],
      "execution_count": 0,
      "outputs": []
    },
    {
      "cell_type": "code",
      "metadata": {
        "id": "ckrTQvn7kAi1",
        "colab_type": "code",
        "colab": {}
      },
      "source": [
        "sz = 512"
      ],
      "execution_count": 0,
      "outputs": []
    },
    {
      "cell_type": "code",
      "metadata": {
        "id": "KHbbjuZTkT7q",
        "colab_type": "code",
        "colab": {}
      },
      "source": [
        "totensor = transforms.ToTensor()\n",
        "resize = transforms.Resize(sz)"
      ],
      "execution_count": 0,
      "outputs": []
    },
    {
      "cell_type": "code",
      "metadata": {
        "id": "oUc-_pK8kYei",
        "colab_type": "code",
        "colab": {}
      },
      "source": [
        "train_loader = DataLoader(train_ds, batch_size=batch_size)"
      ],
      "execution_count": 0,
      "outputs": []
    },
    {
      "cell_type": "code",
      "metadata": {
        "id": "L2PG_b_p80XZ",
        "colab_type": "code",
        "colab": {
          "base_uri": "https://localhost:8080/",
          "height": 34
        },
        "outputId": "31dcb714-5d39-4534-ac86-70ba2f31c2ed"
      },
      "source": [
        "train_loader"
      ],
      "execution_count": 14,
      "outputs": [
        {
          "output_type": "execute_result",
          "data": {
            "text/plain": [
              "<torch.utils.data.dataloader.DataLoader at 0x7f76884a7e10>"
            ]
          },
          "metadata": {
            "tags": []
          },
          "execution_count": 14
        }
      ]
    },
    {
      "cell_type": "markdown",
      "metadata": {
        "id": "IclWZKl49ZNr",
        "colab_type": "text"
      },
      "source": [
        "Maybe change the hyperparameters for better performance."
      ]
    },
    {
      "cell_type": "code",
      "metadata": {
        "id": "rJTTUxVFklcp",
        "colab_type": "code",
        "colab": {}
      },
      "source": [
        "class Autoencoder(nn.Module):\n",
        "    def __init__(self):\n",
        "        super(Autoencoder,self).__init__()\n",
        "        \n",
        "        self.encoder = nn.Sequential(\n",
        "            nn.Conv2d(3, 8, kernel_size=5),\n",
        "            nn.ReLU(True),\n",
        "            nn.Conv2d(8,16,kernel_size=5),\n",
        "            nn.ReLU(True))\n",
        "        self.decoder = nn.Sequential(             \n",
        "            nn.ConvTranspose2d(16,8,kernel_size=5),\n",
        "            nn.ReLU(True),\n",
        "            nn.ConvTranspose2d(8,3,kernel_size=5),\n",
        "            nn.ReLU(True),\n",
        "            nn.Sigmoid())\n",
        "    def forward(self,x):\n",
        "        x = self.encoder(x)\n",
        "        x = self.decoder(x)\n",
        "        return x"
      ],
      "execution_count": 0,
      "outputs": []
    },
    {
      "cell_type": "code",
      "metadata": {
        "id": "cxjIDReHkrWf",
        "colab_type": "code",
        "colab": {}
      },
      "source": [
        "num_epochs = 10 #you can go for more epochs, I am using a mac"
      ],
      "execution_count": 0,
      "outputs": []
    },
    {
      "cell_type": "code",
      "metadata": {
        "id": "vtAA6RAwk1ut",
        "colab_type": "code",
        "colab": {}
      },
      "source": [
        "model = Autoencoder()\n",
        "distance = nn.MSELoss()\n",
        "optimizer = torch.optim.Adam(model.parameters(),weight_decay=1e-5)"
      ],
      "execution_count": 0,
      "outputs": []
    },
    {
      "cell_type": "code",
      "metadata": {
        "id": "m-5k3kDMk7rr",
        "colab_type": "code",
        "colab": {
          "base_uri": "https://localhost:8080/",
          "height": 187
        },
        "outputId": "3f9b7df0-50b3-4d82-a677-338781ad37e4"
      },
      "source": [
        "for epoch in range(num_epochs):\n",
        "  for data in next(iter(train_loader)) :\n",
        "      img = data\n",
        "      img = Variable(img) #.cpu()\n",
        "      # ===================forward=====================\n",
        "      output = model(img)\n",
        "      loss = distance(output, img)\n",
        "      # ===================backward====================\n",
        "      optimizer.zero_grad()\n",
        "      loss.backward()\n",
        "      optimizer.step()\n",
        "  # ===================log========================\n",
        "  print('epoch [{}/{}], loss:{:.4f}'.format(epoch+1, num_epochs, loss))"
      ],
      "execution_count": 21,
      "outputs": [
        {
          "output_type": "stream",
          "text": [
            "epoch [1/10], loss:0.1446\n",
            "epoch [2/10], loss:0.1111\n",
            "epoch [3/10], loss:0.0853\n",
            "epoch [4/10], loss:0.0869\n",
            "epoch [5/10], loss:0.0920\n",
            "epoch [6/10], loss:0.0924\n",
            "epoch [7/10], loss:0.0861\n",
            "epoch [8/10], loss:0.0638\n",
            "epoch [9/10], loss:0.0420\n",
            "epoch [10/10], loss:0.0309\n"
          ],
          "name": "stdout"
        }
      ]
    },
    {
      "cell_type": "markdown",
      "metadata": {
        "id": "Ni500oB19rfo",
        "colab_type": "text"
      },
      "source": [
        "2. Get embeddings"
      ]
    },
    {
      "cell_type": "code",
      "metadata": {
        "id": "ybGPlguolEvW",
        "colab_type": "code",
        "colab": {}
      },
      "source": [
        "encoder = model.encoder"
      ],
      "execution_count": 0,
      "outputs": []
    },
    {
      "cell_type": "code",
      "metadata": {
        "id": "3T0k7bo8cKEi",
        "colab_type": "code",
        "colab": {}
      },
      "source": [
        "x,x = next(iter(train_loader)) "
      ],
      "execution_count": 0,
      "outputs": []
    },
    {
      "cell_type": "code",
      "metadata": {
        "id": "7pwaqLPkbRyd",
        "colab_type": "code",
        "colab": {}
      },
      "source": [
        "emb = model.encoder(x)"
      ],
      "execution_count": 0,
      "outputs": []
    },
    {
      "cell_type": "code",
      "metadata": {
        "id": "B5lAA9uabvIy",
        "colab_type": "code",
        "colab": {}
      },
      "source": [
        "emb2 = emb.data.numpy()"
      ],
      "execution_count": 0,
      "outputs": []
    },
    {
      "cell_type": "code",
      "metadata": {
        "id": "fjmL7FjFdPyP",
        "colab_type": "code",
        "colab": {
          "base_uri": "https://localhost:8080/",
          "height": 34
        },
        "outputId": "00af3e1b-f82e-467a-a918-fedce11ed119"
      },
      "source": [
        "emb2.shape"
      ],
      "execution_count": 26,
      "outputs": [
        {
          "output_type": "execute_result",
          "data": {
            "text/plain": [
              "(128, 16, 504, 504)"
            ]
          },
          "metadata": {
            "tags": []
          },
          "execution_count": 26
        }
      ]
    },
    {
      "cell_type": "code",
      "metadata": {
        "id": "GFrxXUWScu7x",
        "colab_type": "code",
        "colab": {}
      },
      "source": [
        "emb_final = emb2.reshape(-1, 16*504*504) #resize"
      ],
      "execution_count": 0,
      "outputs": []
    },
    {
      "cell_type": "markdown",
      "metadata": {
        "id": "cj8L8TEe8clm",
        "colab_type": "text"
      },
      "source": [
        "Then, combine the embeddings with `train_ds.fnames` and merge with the products table and ins_post table."
      ]
    },
    {
      "cell_type": "code",
      "metadata": {
        "id": "hFow4Hks8ZDT",
        "colab_type": "code",
        "colab": {}
      },
      "source": [
        "# Then we can fit the embeddings into KNN model."
      ],
      "execution_count": 0,
      "outputs": []
    }
  ]
}