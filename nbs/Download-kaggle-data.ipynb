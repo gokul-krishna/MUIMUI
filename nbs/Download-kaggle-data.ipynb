{
 "cells": [
  {
   "cell_type": "code",
   "execution_count": 1,
   "metadata": {
    "ExecuteTime": {
     "end_time": "2019-03-31T19:23:42.670989Z",
     "start_time": "2019-03-31T19:23:42.631082Z"
    }
   },
   "outputs": [],
   "source": [
    "import sys, os, multiprocessing, urllib3, csv\n",
    "from PIL import Image\n",
    "from io import BytesIO\n",
    "from tqdm  import tqdm\n",
    "import json"
   ]
  },
  {
   "cell_type": "code",
   "execution_count": 2,
   "metadata": {
    "ExecuteTime": {
     "end_time": "2019-03-31T19:23:43.477490Z",
     "start_time": "2019-03-31T19:23:43.474762Z"
    }
   },
   "outputs": [],
   "source": [
    "urllib3.disable_warnings(urllib3.exceptions.InsecureRequestWarning)"
   ]
  },
  {
   "cell_type": "code",
   "execution_count": 3,
   "metadata": {
    "ExecuteTime": {
     "end_time": "2019-03-31T19:23:43.869377Z",
     "start_time": "2019-03-31T19:23:43.867561Z"
    }
   },
   "outputs": [],
   "source": [
    "client = urllib3.PoolManager(500)"
   ]
  },
  {
   "cell_type": "code",
   "execution_count": 4,
   "metadata": {
    "ExecuteTime": {
     "end_time": "2019-03-31T19:23:44.346087Z",
     "start_time": "2019-03-31T19:23:44.340691Z"
    }
   },
   "outputs": [],
   "source": [
    "def download_image(item):\n",
    "\n",
    "    image_id, url = item['imageId'], item['url']\n",
    "    filename = os.path.join(f\"{out_dir}/{image_id}.jpg\")\n",
    "\n",
    "    if os.path.exists(filename): return\n",
    "\n",
    "    try:\n",
    "        global client\n",
    "        response = client.request('GET', url)#, timeout=30)\n",
    "        image_data = response.data\n",
    "    except:\n",
    "        print('Warning: Could not download image %s from %s' % (key, url))\n",
    "        return\n",
    "\n",
    "    try:\n",
    "        pil_image = Image.open(BytesIO(image_data))\n",
    "    except:\n",
    "        print('Warning: Failed to parse image %s %s' % (key,url))\n",
    "        return\n",
    "\n",
    "    try:\n",
    "        pil_image_rgb = pil_image.convert('RGB')\n",
    "    except:\n",
    "        print('Warning: Failed to convert image %s to RGB' % key)\n",
    "        return\n",
    "\n",
    "    try:\n",
    "        pil_image_rgb.save(filename, format='JPEG', quality=90)\n",
    "    except:\n",
    "        print('Warning: Failed to save image %s' % filename)\n",
    "\n",
    "        return"
   ]
  },
  {
   "cell_type": "code",
   "execution_count": 5,
   "metadata": {
    "ExecuteTime": {
     "end_time": "2019-03-31T19:23:46.394051Z",
     "start_time": "2019-03-31T19:23:46.391364Z"
    }
   },
   "outputs": [],
   "source": [
    "data_file = 'train.json'\n",
    "out_dir = '../data/kaggle_train'"
   ]
  },
  {
   "cell_type": "code",
   "execution_count": 6,
   "metadata": {
    "ExecuteTime": {
     "end_time": "2019-03-31T19:23:52.968887Z",
     "start_time": "2019-03-31T19:23:49.155389Z"
    }
   },
   "outputs": [],
   "source": [
    "j = json.load(open(data_file))"
   ]
  },
  {
   "cell_type": "code",
   "execution_count": 7,
   "metadata": {
    "ExecuteTime": {
     "end_time": "2019-03-31T19:23:53.485931Z",
     "start_time": "2019-03-31T19:23:53.475585Z"
    }
   },
   "outputs": [
    {
     "data": {
      "text/plain": [
       "{'labelId': ['95', '66', '137', '70', '20'], 'imageId': '1'}"
      ]
     },
     "execution_count": 7,
     "metadata": {},
     "output_type": "execute_result"
    }
   ],
   "source": [
    "j['annotations'][0]"
   ]
  },
  {
   "cell_type": "code",
   "execution_count": 8,
   "metadata": {
    "ExecuteTime": {
     "end_time": "2019-03-31T19:23:53.973218Z",
     "start_time": "2019-03-31T19:23:53.970637Z"
    }
   },
   "outputs": [
    {
     "data": {
      "text/plain": [
       "{'url': 'https://contestimg.wish.com/api/webimage/570f35feb2f4b95d223aa9b1-large',\n",
       " 'imageId': '1'}"
      ]
     },
     "execution_count": 8,
     "metadata": {},
     "output_type": "execute_result"
    }
   ],
   "source": [
    "j['images'][0]"
   ]
  },
  {
   "cell_type": "code",
   "execution_count": 9,
   "metadata": {
    "ExecuteTime": {
     "end_time": "2019-03-31T19:23:55.010180Z",
     "start_time": "2019-03-31T19:23:54.766943Z"
    }
   },
   "outputs": [],
   "source": [
    "pool = multiprocessing.Pool(processes=12)"
   ]
  },
  {
   "cell_type": "code",
   "execution_count": null,
   "metadata": {
    "ExecuteTime": {
     "start_time": "2019-03-31T19:24:01.412Z"
    }
   },
   "outputs": [
    {
     "name": "stderr",
     "output_type": "stream",
     "text": [
      " 10%|▉         | 99364/1014544 [16:27<2:04:58, 122.05it/s]"
     ]
    }
   ],
   "source": [
    "with tqdm(total=len(j['images'])) as bar:\n",
    "    for _ in pool.imap_unordered(download_image, j['images']):\n",
    "        bar.update(1)"
   ]
  },
  {
   "cell_type": "code",
   "execution_count": null,
   "metadata": {},
   "outputs": [],
   "source": []
  }
 ],
 "metadata": {
  "kernelspec": {
   "display_name": "Python 3",
   "language": "python",
   "name": "python3"
  },
  "language_info": {
   "codemirror_mode": {
    "name": "ipython",
    "version": 3
   },
   "file_extension": ".py",
   "mimetype": "text/x-python",
   "name": "python",
   "nbconvert_exporter": "python",
   "pygments_lexer": "ipython3",
   "version": "3.6.8"
  },
  "toc": {
   "base_numbering": 1,
   "nav_menu": {},
   "number_sections": true,
   "sideBar": true,
   "skip_h1_title": false,
   "title_cell": "Table of Contents",
   "title_sidebar": "Contents",
   "toc_cell": false,
   "toc_position": {},
   "toc_section_display": true,
   "toc_window_display": false
  }
 },
 "nbformat": 4,
 "nbformat_minor": 2
}
