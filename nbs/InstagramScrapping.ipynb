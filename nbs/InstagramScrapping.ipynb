{
 "cells": [
  {
   "cell_type": "code",
   "execution_count": 1,
   "metadata": {
    "ExecuteTime": {
     "end_time": "2019-03-24T19:17:57.533216Z",
     "start_time": "2019-03-24T19:17:57.466254Z"
    }
   },
   "outputs": [],
   "source": [
    "from instagram_scraper import InstagramScraper"
   ]
  },
  {
   "cell_type": "code",
   "execution_count": 2,
   "metadata": {
    "ExecuteTime": {
     "end_time": "2019-03-24T19:15:48.509677Z",
     "start_time": "2019-03-24T19:15:48.504186Z"
    }
   },
   "outputs": [],
   "source": [
    "args = dict(username='kyliejenner', media_metadata=True, latest=True,\n",
    "            latest_stamps=False, cookiejar=None,\n",
    "            media_types=['image', 'story-image'],\n",
    "            tag=False, location=True, comments=True,\n",
    "            verbose=1, include_location=True, filter=None)"
   ]
  },
  {
   "cell_type": "code",
   "execution_count": 3,
   "metadata": {
    "ExecuteTime": {
     "end_time": "2019-03-24T19:15:49.714118Z",
     "start_time": "2019-03-24T19:15:49.710913Z"
    }
   },
   "outputs": [],
   "source": [
    "iscraper = InstagramScraper()"
   ]
  },
  {
   "cell_type": "code",
   "execution_count": 4,
   "metadata": {
    "ExecuteTime": {
     "end_time": "2019-03-24T19:15:54.332477Z",
     "start_time": "2019-03-24T19:15:54.078333Z"
    }
   },
   "outputs": [],
   "source": [
    "iscraper.authenticate_as_guest()"
   ]
  },
  {
   "cell_type": "code",
   "execution_count": null,
   "metadata": {},
   "outputs": [],
   "source": []
  }
 ],
 "metadata": {
  "kernelspec": {
   "display_name": "muimui",
   "language": "python",
   "name": "myenv"
  },
  "language_info": {
   "codemirror_mode": {
    "name": "ipython",
    "version": 3
   },
   "file_extension": ".py",
   "mimetype": "text/x-python",
   "name": "python",
   "nbconvert_exporter": "python",
   "pygments_lexer": "ipython3",
   "version": "3.7.1"
  },
  "toc": {
   "base_numbering": 1,
   "nav_menu": {},
   "number_sections": true,
   "sideBar": true,
   "skip_h1_title": false,
   "title_cell": "Table of Contents",
   "title_sidebar": "Contents",
   "toc_cell": false,
   "toc_position": {},
   "toc_section_display": true,
   "toc_window_display": false
  }
 },
 "nbformat": 4,
 "nbformat_minor": 2
}
