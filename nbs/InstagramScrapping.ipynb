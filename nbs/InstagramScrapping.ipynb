{
 "cells": [
  {
   "cell_type": "code",
   "execution_count": 1,
   "metadata": {
    "ExecuteTime": {
     "end_time": "2019-03-24T21:06:17.695499Z",
     "start_time": "2019-03-24T21:06:17.637029Z"
    },
    "scrolled": false
   },
   "outputs": [
    {
     "name": "stdout",
     "output_type": "stream",
     "text": [
      "total 32M\r\n",
      "-rw-rw-r-- 1 gokul gokul 138K Oct 29 15:49 42402577_762184770797862_2886749336563632528_n.jpg\r\n",
      "-rw-rw-r-- 1 gokul gokul  88K Oct 31 09:34 42691135_380894545785843_5598926613077725054_n.jpg\r\n",
      "-rw-rw-r-- 1 gokul gokul 167K Oct 31 11:13 42763649_1918607628224158_6147845852133947276_n.jpg\r\n",
      "-rw-rw-r-- 1 gokul gokul 107K Nov 11 14:26 42825758_131579097824264_3194268860359685956_n.jpg\r\n",
      "-rw-rw-r-- 1 gokul gokul  63K Nov  1 00:28 43057007_2257324467830492_4163195571865642565_n.jpg\r\n",
      "-rw-rw-r-- 1 gokul gokul  83K Nov 17 22:11 43133976_1975763965823086_4173518220959501492_n.jpg\r\n",
      "-rw-rw-r-- 1 gokul gokul  94K Nov 20 16:32 43167421_322229871941471_8931049322070839074_n.jpg\r\n",
      "-rw-rw-r-- 1 gokul gokul  63K Nov 12 09:51 43232036_479251839231537_2141193961127801207_n.jpg\r\n",
      "-rw-rw-r-- 1 gokul gokul 102K Nov 13 11:17 43243944_898374540552474_559210194995885657_n.jpg\r\n",
      "-rw-rw-r-- 1 gokul gokul  84K Nov 17 22:11 43264161_557491711379224_2417632826805840986_n.jpg\r\n",
      "-rw-rw-r-- 1 gokul gokul  90K Oct 31 10:36 43279672_2062381737181570_1431492289571411632_n.jpg\r\n",
      "-rw-rw-r-- 1 gokul gokul 109K Oct 29 14:43 43589296_995771117293461_1301773779248360534_n.jpg\r\n",
      "-rw-rw-r-- 1 gokul gokul 135K Nov 16 10:59 43613387_347756232653557_7698955009395026977_n.jpg\r\n",
      "-rw-rw-r-- 1 gokul gokul  88K Oct 31 08:57 43628360_598522723917036_7421874175518865656_n.jpg\r\n",
      "-rw-rw-r-- 1 gokul gokul  86K Oct 31 09:34 43914500_949199811938511_9008531699354365345_n.jpg\r\n",
      "-rw-rw-r-- 1 gokul gokul  86K Oct 31 19:45 43915017_724281881266685_2707397175734748753_n.jpg\r\n",
      "-rw-rw-r-- 1 gokul gokul  95K Oct 28 13:45 43984716_285323315425495_1940027813248980607_n.jpg\r\n",
      "-rw-rw-r-- 1 gokul gokul  73K Oct 29 15:08 43985212_337859973430030_4606227007290347429_n.jpg\r\n",
      "-rw-rw-r-- 1 gokul gokul 112K Nov 11 14:26 43985553_809908299340341_1565623439801233242_n.jpg\r\n",
      "-rw-rw-r-- 1 gokul gokul  73K Oct 31 18:14 43985724_270918296893820_7815842678225345340_n.jpg\r\n",
      "-rw-rw-r-- 1 gokul gokul 100K Nov  6 09:17 43986065_348305272396402_8955221641782521802_n.jpg\r\n",
      "-rw-rw-r-- 1 gokul gokul  96K Nov 20 15:52 43986164_301685227352392_2424249182141990804_n.jpg\r\n",
      "-rw-rw-r-- 1 gokul gokul  80K Oct 31 18:20 44000174_744863849204224_3122228879139463640_n.jpg\r\n",
      "-rw-rw-r-- 1 gokul gokul 119K Nov 11 16:17 44175642_265244934180309_6766225785052477054_n.jpg\r\n",
      "-rw-rw-r-- 1 gokul gokul 142K Nov 16 10:53 44191804_373036363238139_2952383677060827885_n.jpg\r\n",
      "-rw-rw-r-- 1 gokul gokul  85K Nov  6 10:28 44207525_542022876259730_6641001392826042030_n.jpg\r\n",
      "-rw-rw-r-- 1 gokul gokul  76K Nov 12 09:56 44320699_1944836542487605_2249145052671561658_n.jpg\r\n",
      "-rw-rw-r-- 1 gokul gokul 127K Oct 31 12:12 44346189_318727452046286_5539994872645085407_n.jpg\r\n",
      "-rw-rw-r-- 1 gokul gokul 182K Nov 12 23:47 44358848_1859897104132638_1557852203278858350_n.jpg\r\n",
      "-rw-rw-r-- 1 gokul gokul 155K Oct 31 12:08 44360585_139838390329410_723954725013851415_n.jpg\r\n",
      "-rw-rw-r-- 1 gokul gokul 101K Nov 15 08:58 44417947_2290798747599027_5202251022068605641_n.jpg\r\n",
      "-rw-rw-r-- 1 gokul gokul 165K Nov 15 17:10 44451042_142274646751184_879620610301609555_n.jpg\r\n",
      "-rw-rw-r-- 1 gokul gokul 152K Nov 15 16:49 44464013_327633071354763_5304023022792088836_n.jpg\r\n",
      "-rw-rw-r-- 1 gokul gokul  72K Nov  1 00:28 44518847_280046349528768_1782177390510371128_n.jpg\r\n",
      "-rw-rw-r-- 1 gokul gokul 170K Nov 19 12:28 44524796_1598003163634248_299657538604572605_n.jpg\r\n",
      "-rw-rw-r-- 1 gokul gokul 100K Nov 19 09:08 44573121_2093032280938621_1846826186345044262_n.jpg\r\n",
      "-rw-rw-r-- 1 gokul gokul 106K Nov  1 13:17 44583682_295820124359005_335057209229057792_n.jpg\r\n",
      "-rw-rw-r-- 1 gokul gokul  82K Nov 20 11:59 44603825_352356882180129_1579705896511528353_n.jpg\r\n",
      "-rw-rw-r-- 1 gokul gokul  77K Nov 21 10:48 44603830_334967317289403_272583032513922795_n.jpg\r\n",
      "-rw-rw-r-- 1 gokul gokul 122K Nov 26 09:12 44631402_279968972655067_4883886174204889733_n.jpg\r\n",
      "-rw-rw-r-- 1 gokul gokul 231K Nov 19 12:30 44647507_763763797297065_5237869404358020193_n.jpg\r\n",
      "-rw-rw-r-- 1 gokul gokul  98K Nov 20 12:42 44705218_760613590939786_7083579972168230546_n.jpg\r\n",
      "-rw-rw-r-- 1 gokul gokul  85K Nov 17 22:11 44710783_189738865291639_1001425008349289075_n.jpg\r\n",
      "-rw-rw-r-- 1 gokul gokul  76K Nov 26 09:03 44738326_2192266801032150_1870514632410731967_n.jpg\r\n",
      "-rw-rw-r-- 1 gokul gokul  91K Nov 26 09:03 44757623_270638253637501_7279365134257148103_n.jpg\r\n",
      "-rw-rw-r-- 1 gokul gokul  64K Nov 22 12:15 44759639_309198483021312_5679018930812695591_n.jpg\r\n",
      "-rw-rw-r-- 1 gokul gokul  61K Nov 27 13:14 44790324_348006599099471_600137823584017351_n.jpg\r\n",
      "-rw-rw-r-- 1 gokul gokul 101K Nov 21 10:35 44801607_892262984496711_7674077923227242786_n.jpg\r\n",
      "-rw-rw-r-- 1 gokul gokul 153K Nov 15 17:10 44820804_325646641558451_8028524060811334346_n.jpg\r\n",
      "-rw-rw-r-- 1 gokul gokul 162K Nov 21 10:43 44820805_767885320222908_1829937473104522756_n.jpg\r\n",
      "-rw-rw-r-- 1 gokul gokul  75K Oct 31 12:12 44847239_252473232288497_3436740455950936483_n.jpg\r\n",
      "-rw-rw-r-- 1 gokul gokul  39K Nov 27 13:15 44850376_326189251303508_7363706451169376381_n.jpg\r\n",
      "-rw-rw-r-- 1 gokul gokul  93K Nov 20 16:30 44860763_358847704874414_8447584858583658084_n.jpg\r\n",
      "-rw-rw-r-- 1 gokul gokul 136K Dec  3 09:35 44879262_745347195801854_388556476475925082_n.jpg\r\n",
      "-rw-rw-r-- 1 gokul gokul 121K Nov 26 09:03 44902727_2162983150407260_2961468377461191155_n.jpg\r\n",
      "-rw-rw-r-- 1 gokul gokul  77K Nov 25 10:17 44907921_656481768082071_612418931987298015_n.jpg\r\n",
      "-rw-rw-r-- 1 gokul gokul 106K Dec  1 16:13 44909399_267301970598476_1317877340308813666_n.jpg\r\n",
      "-rw-rw-r-- 1 gokul gokul 163K Nov 13 00:13 45267357_214053566155276_4290818506808337647_n.jpg\r\n",
      "-rw-rw-r-- 1 gokul gokul  38K Nov 26 09:07 45274412_752938618383104_3100527277024638959_n.jpg\r\n",
      "-rw-rw-r-- 1 gokul gokul 125K Nov 27 17:41 45360974_535805040225212_7623989130549850556_n.jpg\r\n",
      "-rw-rw-r-- 1 gokul gokul 118K Dec  4 19:57 45363663_727783980921389_1586885930096881375_n.jpg\r\n",
      "-rw-rw-r-- 1 gokul gokul 228K Nov 12 23:47 45404691_760547317617414_3538149521441421781_n.jpg\r\n",
      "-rw-rw-r-- 1 gokul gokul 131K Nov 18 10:42 45412340_681485115581301_4579325552009214230_n.jpg\r\n",
      "-rw-rw-r-- 1 gokul gokul  63K Nov 26 09:03 45426239_278472326352577_5552250930266306325_n.jpg\r\n",
      "-rw-rw-r-- 1 gokul gokul  85K Nov 22 18:02 45501314_518285742006078_4767498349229071899_n.jpg\r\n",
      "-rw-rw-r-- 1 gokul gokul  92K Dec  6 10:25 45537207_490829404773097_6491334279287256089_n.jpg\r\n",
      "-rw-rw-r-- 1 gokul gokul 136K Nov 16 10:59 45562918_132973621018712_3725240454917925136_n.jpg\r\n",
      "-rw-rw-r-- 1 gokul gokul 100K Dec  8 12:44 45620899_200722524140185_8369593497703755175_n.jpg\r\n",
      "-rw-rw-r-- 1 gokul gokul  78K Nov 24 18:01 45653000_781996965465431_832330996121764964_n.jpg\r\n",
      "-rw-rw-r-- 1 gokul gokul  73K Dec 28 23:39 45824477_1035911756617026_5163798930676217728_n.jpg\r\n",
      "-rw-rw-r-- 1 gokul gokul 115K Dec 11 19:13 45832745_390824938325369_822069407839230640_n.jpg\r\n",
      "-rw-rw-r-- 1 gokul gokul 148K Nov 30 14:10 45883411_2086283281428682_4873385981253004436_n.jpg\r\n",
      "-rw-rw-r-- 1 gokul gokul 160K Nov 28 14:11 46022232_2076632129092845_3135300217919806388_n.jpg\r\n",
      "-rw-rw-r-- 1 gokul gokul  71K Dec  6 10:30 46039285_357155771715049_6280872611040431517_n.jpg\r\n",
      "-rw-rw-r-- 1 gokul gokul  96K Nov 28 07:45 46179739_323993694857269_3370254118279371110_n.jpg\r\n",
      "-rw-rw-r-- 1 gokul gokul  85K Nov 17 22:11 46208448_2034201453292979_6771896008357209943_n.jpg\r\n",
      "-rw-rw-r-- 1 gokul gokul  63K Nov 28 07:45 46224549_339493490196893_2561122035818332768_n.jpg\r\n",
      "-rw-rw-r-- 1 gokul gokul  80K Nov 29 16:40 46260700_295112531210680_7117787472608207801_n.jpg\r\n",
      "-rw-rw-r-- 1 gokul gokul  97K Dec  8 19:10 46263741_290891638299152_1829968676498430933_n.jpg\r\n",
      "-rw-rw-r-- 1 gokul gokul  89K Nov 30 16:30 46265853_1125529150938931_6525541007515433888_n.jpg\r\n",
      "-rw-rw-r-- 1 gokul gokul  76K Nov 20 11:02 46268754_2183447715039177_3339668565621567923_n.jpg\r\n",
      "-rw-rw-r-- 1 gokul gokul 186K Dec  8 11:14 46308572_364245794340065_7601361905296015633_n.jpg\r\n",
      "-rw-rw-r-- 1 gokul gokul 126K Nov 25 10:15 46396648_330437624422367_3988057330452879263_n.jpg\r\n",
      "-rw-rw-r-- 1 gokul gokul  83K Dec  1 08:26 46409743_342692096541706_7012348391047636451_n.jpg\r\n",
      "-rw-rw-r-- 1 gokul gokul 100K Dec 17 09:23 46425618_1999493060348454_8819563905456635378_n.jpg\r\n",
      "-rw-rw-r-- 1 gokul gokul  93K Dec 17 09:23 46425913_313268429397652_4847383977530818689_n.jpg\r\n",
      "-rw-rw-r-- 1 gokul gokul 141K Dec  8 11:08 46567720_141709990145214_8462662100993139205_n.jpg\r\n",
      "-rw-rw-r-- 1 gokul gokul  84K Dec 28 23:52 46569185_302796623695415_5854142606379957839_n.jpg\r\n",
      "-rw-rw-r-- 1 gokul gokul 112K Nov 22 10:01 46575432_295915037932916_6236402522722841382_n.jpg\r\n",
      "-rw-rw-r-- 1 gokul gokul  71K Dec 17 09:23 46752367_289000218629424_750885686479122140_n.jpg\r\n",
      "-rw-rw-r-- 1 gokul gokul 129K Dec 17 09:15 46774980_128381398091331_8198218539010714409_n.jpg\r\n",
      "-rw-rw-r-- 1 gokul gokul  91K Dec  5 21:52 46781789_542592056206339_1824864471030191550_n.jpg\r\n",
      "-rw-rw-r-- 1 gokul gokul 171K Dec  8 11:14 47003423_1566378636839180_8001460486332768674_n.jpg\r\n",
      "-rw-rw-r-- 1 gokul gokul  87K Nov 30 16:53 47027829_645662582495454_3968640310148494775_n.jpg\r\n",
      "-rw-rw-r-- 1 gokul gokul  86K Dec  1 08:26 47159101_275920506444485_8152328033303116294_n.jpg\r\n",
      "-rw-rw-r-- 1 gokul gokul  57K Dec 22 13:34 47161842_315145075756829_7322356982499201963_n.jpg\r\n",
      "-rw-rw-r-- 1 gokul gokul 145K Dec 13 14:17 47201823_2195788067347240_3945732033967527177_n.jpg\r\n",
      "-rw-rw-r-- 1 gokul gokul 166K Dec 29 17:16 47308285_1966098743503506_6921189995952563534_n.jpg\r\n",
      "-rw-rw-r-- 1 gokul gokul 103K Dec 30 15:11 47329239_1065335503652733_3344957788326685439_n.jpg\r\n",
      "-rw-rw-r-- 1 gokul gokul 106K Dec 25 21:01 47421355_2207970879461224_7088065827886727870_n.jpg\r\n",
      "-rw-rw-r-- 1 gokul gokul 101K Dec 20 23:48 47509212_344387859685885_7951254619256016791_n.jpg\r\n",
      "-rw-rw-r-- 1 gokul gokul  58K Dec 28 23:39 47581347_521407568369763_1697061974725954701_n.jpg\r\n",
      "-rw-rw-r-- 1 gokul gokul  73K Jan  5 13:04 47582112_2084038788345959_4540600792464938807_n.jpg\r\n",
      "-rw-rw-r-- 1 gokul gokul  63K Jan  4 12:44 47582191_288789085112635_4379199893226715088_n.jpg\r\n",
      "-rw-rw-r-- 1 gokul gokul 149K Dec 29 12:17 47582286_2074786729412949_7293183212404738552_n.jpg\r\n",
      "-rw-rw-r-- 1 gokul gokul  99K Dec 31 17:46 47582863_347665222682130_4375834745874238089_n.jpg\r\n",
      "-rw-rw-r-- 1 gokul gokul 104K Jan 13 18:32 47583002_1959392237700200_8180761650121265676_n.jpg\r\n",
      "-rw-rw-r-- 1 gokul gokul  91K Dec 22 10:31 47583186_160512284923096_9179345960731024045_n.jpg\r\n",
      "-rw-rw-r-- 1 gokul gokul  89K Dec 22 10:31 47583713_364957164295346_830790069067136415_n.jpg\r\n",
      "-rw-rw-r-- 1 gokul gokul 128K Dec 29 12:17 47584465_1171254513042783_1537753555860296326_n.jpg\r\n",
      "-rw-rw-r-- 1 gokul gokul 100K Dec 25 14:08 47584630_298498431008156_2105425824878687289_n.jpg\r\n",
      "-rw-rw-r-- 1 gokul gokul  71K Dec 22 10:29 47585707_742942226070952_6709961850773550677_n.jpg\r\n",
      "-rw-rw-r-- 1 gokul gokul  70K Jan 10 08:54 47689908_1091989294314688_8166968471543133325_n.jpg\r\n",
      "-rw-rw-r-- 1 gokul gokul  50K Jan  9 13:54 47690365_400109674058992_8154976650003812150_n.jpg\r\n",
      "-rw-rw-r-- 1 gokul gokul  80K Jan  9 14:47 47691098_531211254057104_6695451583480365113_n.jpg\r\n",
      "-rw-rw-r-- 1 gokul gokul  88K Jan  7 18:41 47693504_304238196866055_8725658569529123683_n.jpg\r\n",
      "-rw-rw-r-- 1 gokul gokul  85K Jan 15 09:04 47693872_485141418679298_6481092994492329596_n.jpg\r\n",
      "-rw-rw-r-- 1 gokul gokul  97K Dec 16 18:50 47693919_2317448745151958_3721605747279028541_n.jpg\r\n",
      "-rw-rw-r-- 1 gokul gokul  47K Jan 16 13:12 47694455_540125233155112_6320963989094629461_n.jpg\r\n",
      "-rw-rw-r-- 1 gokul gokul 155K Jan 16 18:11 47694460_313356459301416_4150639027660337205_n.jpg\r\n",
      "-rw-rw-r-- 1 gokul gokul  64K Feb  2 21:08 47694493_238528407073848_8611373849017211452_n.jpg\r\n",
      "-rw-rw-r-- 1 gokul gokul 118K Jan 17 16:20 47694605_365003950748737_1830653216404076380_n.jpg\r\n",
      "-rw-rw-r-- 1 gokul gokul 108K Jan 18 15:21 47694923_535637123595781_8156675339710961221_n.jpg\r\n",
      "-rw-rw-r-- 1 gokul gokul 187K Jan 18 11:09 49380500_287612832112550_5428800135572740830_n.jpg\r\n",
      "-rw-rw-r-- 1 gokul gokul  41K Jan 15 08:57 49388163_215477202739986_1263651823929443731_n.jpg\r\n",
      "-rw-rw-r-- 1 gokul gokul 120K Jan 19 15:00 49403792_2243301975996328_5286465289375132536_n.jpg\r\n",
      "-rw-rw-r-- 1 gokul gokul  64K Jan 16 11:44 49440959_340160359918574_1974212358324127309_n.jpg\r\n",
      "-rw-rw-r-- 1 gokul gokul 131K Jan 18 10:30 49446333_2240259192929930_524720729099255722_n.jpg\r\n",
      "-rw-rw-r-- 1 gokul gokul  65K Jan  9 17:59 49457236_130450357983480_6088132927555920761_n.jpg\r\n",
      "-rw-rw-r-- 1 gokul gokul  63K Jan 10 08:54 49462068_2007473819360444_5184283237536069150_n.jpg\r\n",
      "-rw-rw-r-- 1 gokul gokul  80K Jan 15 12:59 49491337_356014075229387_2055108665030093177_n.jpg\r\n",
      "-rw-rw-r-- 1 gokul gokul 107K Jan 16 13:06 49491345_2127558867332571_829859147793880904_n.jpg\r\n",
      "-rw-rw-r-- 1 gokul gokul 103K Jan 14 11:42 49546981_760061951018150_1311845753560505600_n.jpg\r\n",
      "-rw-rw-r-- 1 gokul gokul 115K Jan 19 15:00 49558550_364568371026223_5150475316499324462_n.jpg\r\n",
      "-rw-rw-r-- 1 gokul gokul 213K Jan 19 14:52 49567975_2058769897537300_2185178903524277411_n.jpg\r\n",
      "-rw-rw-r-- 1 gokul gokul  43K Jan 15 12:59 49586321_232530450956314_4532864656153034806_n.jpg\r\n",
      "-rw-rw-r-- 1 gokul gokul  81K Jan 15 12:59 49608708_314239125894005_6581577132039164626_n.jpg\r\n",
      "-rw-rw-r-- 1 gokul gokul 105K Jan 28 12:02 49635421_294748951227453_1638638513447613891_n.jpg\r\n",
      "-rw-rw-r-- 1 gokul gokul  21K Oct  5  2010 49637385_2000492713584306_1377887545064423424_n.jpg\r\n",
      "-rw-rw-r-- 1 gokul gokul 107K Jan 23 15:16 49646929_2117636795214569_6421418056354991172_n.jpg\r\n",
      "-rw-rw-r-- 1 gokul gokul  63K Feb  2 21:03 49663039_636889650079680_8867144010978330622_n.jpg\r\n",
      "-rw-rw-r-- 1 gokul gokul  81K Jan  8 18:59 49667545_1157154797790868_143088949386336925_n.jpg\r\n",
      "-rw-rw-r-- 1 gokul gokul  64K Jan  9 17:59 49716529_314315855876819_6898744367829471270_n.jpg\r\n",
      "-rw-rw-r-- 1 gokul gokul 146K Jan 19 07:24 49725348_1993338097627296_3891186871336709642_n.jpg\r\n",
      "-rw-rw-r-- 1 gokul gokul  66K Jan 14 12:57 49739626_353275758841378_3690146450856907460_n.jpg\r\n",
      "-rw-rw-r-- 1 gokul gokul  54K Jan 22 11:52 49768157_293082938068247_5739357218670976089_n.jpg\r\n",
      "-rw-rw-r-- 1 gokul gokul  94K Jan 20 14:01 49810825_114582809610595_7707171671762654397_n.jpg\r\n",
      "-rw-rw-r-- 1 gokul gokul 150K Feb  1 08:58 49813295_1005451936328760_2466286371743089262_n.jpg\r\n",
      "-rw-rw-r-- 1 gokul gokul 161K Jan 17 13:55 49836850_388365411741836_4303466479851158548_n.jpg\r\n",
      "-rw-rw-r-- 1 gokul gokul  63K Jan 16 13:12 49844028_594588734318150_4857806247829302352_n.jpg\r\n",
      "-rw-rw-r-- 1 gokul gokul  96K Jan 14 11:42 49844036_301437237383999_4919212584739217868_n.jpg\r\n",
      "-rw-rw-r-- 1 gokul gokul 145K Jan 24 12:16 49858053_382347299198451_5376613538512416662_n.jpg\r\n",
      "-rw-rw-r-- 1 gokul gokul  64K Jan  9 17:59 49858235_2080602668675134_1588020213183703608_n.jpg\r\n",
      "-rw-rw-r-- 1 gokul gokul 100K Jan 24 12:30 49858331_610581782736243_5818495796152613396_n.jpg\r\n",
      "-rw-rw-r-- 1 gokul gokul  91K Jan 19 16:30 49858591_2222152754708036_3489983464199489420_n.jpg\r\n",
      "-rw-rw-r-- 1 gokul gokul  73K Jan 22 16:13 49858738_235485060696463_2614209437044742296_n.jpg\r\n",
      "-rw-rw-r-- 1 gokul gokul 137K Jan 19 08:59 49906811_229140434637484_6733388126127426201_n.jpg\r\n",
      "-rw-rw-r-- 1 gokul gokul 185K Jan 18 08:02 49907097_1019910328176674_2986110927713366941_n.jpg\r\n",
      "-rw-rw-r-- 1 gokul gokul  63K Jan 22 11:52 49907242_366843490760619_5059468338709117370_n.jpg\r\n",
      "-rw-rw-r-- 1 gokul gokul 101K Jan 20 14:01 49913181_2235379050076680_2372086218172082258_n.jpg\r\n",
      "-rw-rw-r-- 1 gokul gokul 145K Jan 18 09:36 49933575_388152601752729_2531349759149159980_n.jpg\r\n",
      "-rw-rw-r-- 1 gokul gokul  66K Feb  1 08:58 49933733_114074109684420_5416093366522442501_n.jpg\r\n",
      "-rw-rw-r-- 1 gokul gokul 104K Jan 16 13:06 49933890_249600945937253_1303545929836084874_n.jpg\r\n",
      "-rw-rw-r-- 1 gokul gokul  58K Jan 27 11:25 49933895_2044635882279904_2056189543993368401_n.jpg\r\n",
      "-rw-rw-r-- 1 gokul gokul  79K Feb  1 08:58 49956531_283167469017575_8724237555658206944_n.jpg\r\n",
      "-rw-rw-r-- 1 gokul gokul  75K Jan  5 13:04 50014840_531740037231589_8795449462804428971_n.jpg\r\n",
      "-rw-rw-r-- 1 gokul gokul 138K Jan 24 10:14 50028318_292840404762058_6067158074374588654_n.jpg\r\n",
      "-rw-rw-r-- 1 gokul gokul 128K Feb  1 08:58 50050241_296066664445806_8273853934171841120_n.jpg\r\n",
      "-rw-rw-r-- 1 gokul gokul 160K Jan 19 15:00 50055468_540004589853717_9094855917465750753_n.jpg\r\n",
      "-rw-rw-r-- 1 gokul gokul  73K Feb  1 08:58 50055938_418140699021316_3498529555877014125_n.jpg\r\n",
      "-rw-rw-r-- 1 gokul gokul 174K Jan 18 17:21 50055938_612273395896928_5087916545051570817_n.jpg\r\n",
      "-rw-rw-r-- 1 gokul gokul 123K Feb  5 10:28 50112070_832969397045975_8922407287626214879_n.jpg\r\n",
      "-rw-rw-r-- 1 gokul gokul  82K Feb  4 12:01 50121367_231757977771820_1215428685026064629_n.jpg\r\n",
      "-rw-rw-r-- 1 gokul gokul  60K Feb  2 21:03 50140748_366421790755563_4139783993959447704_n.jpg\r\n",
      "-rw-rw-r-- 1 gokul gokul  88K Feb  4 11:59 50140753_137061757325257_6421332287340610342_n.jpg\r\n",
      "-rw-rw-r-- 1 gokul gokul 110K Jan 16 13:06 50140764_241612673400867_1889195232199677357_n.jpg\r\n",
      "-rw-rw-r-- 1 gokul gokul 144K Feb  5 10:28 50226270_116903916056657_1675261335844597898_n.jpg\r\n",
      "-rw-rw-r-- 1 gokul gokul 125K Feb  5 10:28 50241675_316313099002185_3449606773081073058_n.jpg\r\n",
      "-rw-rw-r-- 1 gokul gokul 129K Feb  5 10:28 50287212_2143306465714992_5934440596781048090_n.jpg\r\n",
      "-rw-rw-r-- 1 gokul gokul 167K Feb  5 10:28 50313720_398791270666497_7618092854538556575_n.jpg\r\n",
      "-rw-rw-r-- 1 gokul gokul  40K Jan 27 11:25 50315502_251594762457349_5295870535910216596_n.jpg\r\n",
      "-rw-rw-r-- 1 gokul gokul  68K Feb 19 12:53 50327692_316309942567255_3849081920052788803_n.jpg\r\n",
      "-rw-rw-r-- 1 gokul gokul 134K Feb  5 10:28 50527499_118557882556290_6395489377812090547_n.jpg\r\n",
      "-rw-rw-r-- 1 gokul gokul 105K Feb  1 10:54 50586530_641876609577995_6039463800495710476_n.jpg\r\n",
      "-rw-rw-r-- 1 gokul gokul  80K Feb  1 08:58 50607401_251298535806333_3430373275534913335_n.jpg\r\n",
      "-rw-rw-r-- 1 gokul gokul 758K Jan 18 15:21 50613825_507932366278240_6762266591492480900_n.mp4\r\n",
      "-rw-rw-r-- 1 gokul gokul  90K Feb 10 14:03 50699361_302117427115967_2013053568892202800_n.jpg\r\n",
      "-rw-rw-r-- 1 gokul gokul 109K Feb 10 14:03 50707702_259915494951182_8415998473031624759_n.jpg\r\n",
      "-rw-rw-r-- 1 gokul gokul 116K Feb 10 14:03 50732487_379385119512247_9082876807194181073_n.jpg\r\n",
      "-rw-rw-r-- 1 gokul gokul  89K Feb 10 14:03 50746299_307594370105884_6532047320081182240_n.jpg\r\n",
      "-rw-rw-r-- 1 gokul gokul  78K Feb  9 18:59 50770459_1056599267880490_3367239368649230551_n.jpg\r\n",
      "-rw-rw-r-- 1 gokul gokul 108K Feb 10 14:03 50809198_312693892723752_9220693464564971213_n.jpg\r\n",
      "-rw-rw-r-- 1 gokul gokul  87K Jan 27 11:25 50840169_1206982359426502_960421081460235504_n.jpg\r\n",
      "-rw-rw-r-- 1 gokul gokul  85K Feb 15 21:45 50883762_380430692738965_7650351493945073454_n.jpg\r\n",
      "-rw-rw-r-- 1 gokul gokul 126K Feb 10 14:03 50902222_2242808309375670_4697759642224446739_n.jpg\r\n",
      "-rw-rw-r-- 1 gokul gokul 130K Feb  4 11:57 50921872_379484995949787_6127955234760633613_n.jpg\r\n",
      "-rw-rw-r-- 1 gokul gokul  94K Feb  9 23:24 50936532_2039271039527017_5507945601373158240_n.jpg\r\n",
      "-rw-rw-r-- 1 gokul gokul 102K Feb  5 00:11 50952109_322880308346467_6300396456738538970_n.jpg\r\n",
      "-rw-rw-r-- 1 gokul gokul 100K Feb  1 08:58 50964898_136448237387900_3402565338758567075_n.jpg\r\n",
      "-rw-rw-r-- 1 gokul gokul 106K Feb 10 14:03 50977135_169763487326994_6104994960223965021_n.jpg\r\n",
      "-rw-rw-r-- 1 gokul gokul  74K Feb 15 22:09 50985978_775480036141828_4074252657244188680_n.jpg\r\n",
      "-rw-rw-r-- 1 gokul gokul 220K Feb  5 10:28 51077087_2116062281774519_5560920458985979304_n.jpg\r\n",
      "-rw-rw-r-- 1 gokul gokul 162K Feb 10 14:03 51126649_594904710976533_1661280214631943287_n.jpg\r\n",
      "-rw-rw-r-- 1 gokul gokul  87K Feb  1 08:58 51162471_118831722513482_7269137287213602028_n.jpg\r\n",
      "-rw-rw-r-- 1 gokul gokul  95K Feb 16 08:27 51165162_249951852553522_7399279217587134268_n.jpg\r\n",
      "-rw-rw-r-- 1 gokul gokul  71K Feb 15 22:09 51196507_2321289578127221_3602078868885280442_n.jpg\r\n",
      "-rw-rw-r-- 1 gokul gokul  92K Feb  9 23:24 51283638_2223901481215203_5351339741321881125_n.jpg\r\n",
      "-rw-rw-r-- 1 gokul gokul  85K Feb 15 22:09 51346039_2315156425245396_8345942655346856341_n.jpg\r\n",
      "-rw-rw-r-- 1 gokul gokul 161K Feb 10 14:03 51408395_2262345083988139_2120840591185959021_n.jpg\r\n",
      "-rw-rw-r-- 1 gokul gokul  45K Feb 19 12:40 51536032_322943194995878_1000894287624778297_n.jpg\r\n",
      "-rw-rw-r-- 1 gokul gokul 1.7M Feb  1 08:58 51579042_600792737010850_3577961933732577280_n.mp4\r\n",
      "-rw-rw-r-- 1 gokul gokul 131K Feb  5 10:28 51674698_110505079917007_7801488299899822223_n.jpg\r\n",
      "-rw-rw-r-- 1 gokul gokul 1.1M Feb  1 08:58 51687621_236320540578239_4609012298206412800_n.mp4\r\n",
      "-rw-rw-r-- 1 gokul gokul 144K Feb 14 10:32 51794409_573814019749594_6002737389410189137_n.jpg\r\n",
      "-rw-rw-r-- 1 gokul gokul  56K Feb 19 13:03 51847306_1287007631447053_1695793602366126764_n.jpg\r\n",
      "-rw-rw-r-- 1 gokul gokul 112K Mar  5 13:23 51866053_141175316925155_5291208221870772278_n.jpg\r\n",
      "-rw-rw-r-- 1 gokul gokul  81K Feb 10 14:03 51917136_119152882483563_3198199952261545277_n.jpg\r\n",
      "-rw-rw-r-- 1 gokul gokul  75K Feb 25 22:44 51935354_2351605611720167_8153616447533343859_n.jpg\r\n",
      "-rw-rw-r-- 1 gokul gokul  79K Mar  8 09:54 52002838_2579503508943393_2411130818078794159_n.jpg\r\n",
      "-rw-rw-r-- 1 gokul gokul 100K Feb 19 12:49 52024282_848844052114452_1786024412873774237_n.jpg\r\n",
      "-rw-rw-r-- 1 gokul gokul  70K Feb 15 22:09 52035799_375315486353174_3716936683033508554_n.jpg\r\n",
      "-rw-rw-r-- 1 gokul gokul  33K Feb 25 22:45 52087668_386899382131542_7065286963371215892_n.jpg\r\n",
      "-rw-rw-r-- 1 gokul gokul 133K Feb 25 16:06 52156980_847791212219186_3746815709407200172_n.jpg\r\n",
      "-rw-rw-r-- 1 gokul gokul  57K Feb 19 13:03 52183956_2274446722832404_8734672688745183453_n.jpg\r\n",
      "-rw-rw-r-- 1 gokul gokul  95K Feb 28 17:27 52274978_343928106216838_7146787547803088719_n.jpg\r\n",
      "-rw-rw-r-- 1 gokul gokul 118K Mar  8 17:08 52320010_161986431462289_5744165488119827683_n.jpg\r\n",
      "-rw-rw-r-- 1 gokul gokul 108K Mar  8 09:54 52326577_343809936230591_5232140284899902545_n.jpg\r\n",
      "-rw-rw-r-- 1 gokul gokul  51K Feb 25 22:38 52332934_339684686652118_4218434354906171978_n.jpg\r\n",
      "-rw-rw-r-- 1 gokul gokul 132K Mar  8 09:54 52344946_413589676041225_6185225128255402900_n.jpg\r\n",
      "-rw-rw-r-- 1 gokul gokul 117K Mar 22 14:53 52548614_2402625193360532_2990782523795166999_n.jpg\r\n",
      "-rw-rw-r-- 1 gokul gokul  52K Feb 25 22:46 52591826_120483099063912_8096155922526260470_n.jpg\r\n",
      "-rw-rw-r-- 1 gokul gokul 108K Feb 15 14:55 52612089_1205824146247716_4814868558203642682_n.jpg\r\n",
      "-rw-rw-r-- 1 gokul gokul 134K Mar 14 11:27 52684730_1992587864183279_5336332423340254413_n.jpg\r\n",
      "-rw-rw-r-- 1 gokul gokul 110K Mar 11 13:31 52706583_2089606581158073_7518716495437485137_n.jpg\r\n",
      "-rw-rw-r-- 1 gokul gokul 1.9M Feb 14 10:32 52729125_383941175542268_1051628905703669760_n.mp4\r\n",
      "-rw-rw-r-- 1 gokul gokul  87K Feb 28 17:23 52807213_628686434226289_6198447333064570713_n.jpg\r\n",
      "-rw-rw-r-- 1 gokul gokul  89K Mar 16 16:58 52842041_399035120674846_9059983088097632626_n.jpg\r\n",
      "-rw-rw-r-- 1 gokul gokul 142K Feb 19 11:39 52920099_310804299577783_6382721770901202985_n.jpg\r\n",
      "-rw-rw-r-- 1 gokul gokul 111K Mar  8 12:23 53053003_824940217844015_3132925072729892935_n.jpg\r\n",
      "-rw-rw-r-- 1 gokul gokul 102K Mar 15 19:25 53203885_416798042197927_7661879573520840927_n.jpg\r\n",
      "-rw-rw-r-- 1 gokul gokul  73K Mar 12 22:44 53267144_1033880670134633_8819474020952238404_n.jpg\r\n",
      "-rw-rw-r-- 1 gokul gokul  84K Mar  5 13:23 53391365_1049207675266372_6625985138765697543_n.jpg\r\n",
      "-rw-rw-r-- 1 gokul gokul  91K Mar 17 15:38 53410328_2368755059824407_3822287487569478887_n.jpg\r\n",
      "-rw-rw-r-- 1 gokul gokul 100K Mar  8 09:54 53416963_402435617188418_7325258290160976375_n.jpg\r\n",
      "-rw-rw-r-- 1 gokul gokul 112K Mar 21 10:44 53572842_263594461255626_8906521452133151984_n.jpg\r\n",
      "-rw-rw-r-- 1 gokul gokul 115K Mar 11 13:36 53599192_266168120961465_6892000670699034660_n.jpg\r\n",
      "-rw-rw-r-- 1 gokul gokul  95K Mar 14 15:43 53655993_2053993124717549_5594665276079980765_n.jpg\r\n",
      "-rw-rw-r-- 1 gokul gokul  64K Mar 21 10:29 53678532_1362746640533719_4292214284843071965_n.jpg\r\n",
      "-rw-rw-r-- 1 gokul gokul 110K Mar 11 13:36 53738262_2267120706864543_7552644826217654_n.jpg\r\n",
      "-rw-rw-r-- 1 gokul gokul  88K Mar 20 11:06 53759567_629396014179774_4824617646813124108_n.jpg\r\n",
      "-rw-rw-r-- 1 gokul gokul  89K Mar 12 21:59 53813367_643728539411414_2073206640999862594_n.jpg\r\n",
      "-rw-rw-r-- 1 gokul gokul 119K Mar 11 13:37 53813375_311407539574729_7228703759820904988_n.jpg\r\n",
      "-rw-rw-r-- 1 gokul gokul 111K Mar 21 10:44 53889240_427573384644559_8732312406634803317_n.jpg\r\n",
      "-rw-rw-r-- 1 gokul gokul  69K Mar 19 20:27 53919148_274993813393160_865773204691294207_n.jpg\r\n",
      "-rw-rw-r-- 1 gokul gokul 167K Mar 17 13:06 54222454_809949732696855_443966870241871852_n.jpg\r\n",
      "-rw-rw-r-- 1 gokul gokul 100K Mar 14 15:43 54247482_308655226513528_6527600101057467299_n.jpg\r\n",
      "-rw-rw-r-- 1 gokul gokul 108K Mar 21 10:34 54800657_395600847974247_8458750219630902908_n.jpg\r\n",
      "-rw-rw-r-- 1 gokul gokul 850K Mar 24 14:03 kyliejenner.json\r\n"
     ]
    }
   ],
   "source": [
    "from instagram_scraper import InstagramScraper"
   ]
  },
  {
   "cell_type": "code",
   "execution_count": 3,
   "metadata": {
    "ExecuteTime": {
     "end_time": "2019-03-24T21:03:14.327401Z",
     "start_time": "2019-03-24T21:03:14.324013Z"
    }
   },
   "outputs": [],
   "source": [
    "args = dict(usernames=['kyliejenner'],\n",
    "            destination='../data/',\n",
    "            maximum=200,\n",
    "            media_metadata=True,\n",
    "            profile_metadata=True,\n",
    "            media_types=['image', 'story-image'],\n",
    "            tag=True, location=True)"
   ]
  },
  {
   "cell_type": "code",
   "execution_count": 4,
   "metadata": {
    "ExecuteTime": {
     "end_time": "2019-03-24T21:03:15.279489Z",
     "start_time": "2019-03-24T21:03:15.272822Z"
    }
   },
   "outputs": [],
   "source": [
    "iscraper = InstagramScraper(**args)"
   ]
  },
  {
   "cell_type": "code",
   "execution_count": 5,
   "metadata": {
    "ExecuteTime": {
     "end_time": "2019-03-24T21:03:15.817933Z",
     "start_time": "2019-03-24T21:03:15.607563Z"
    }
   },
   "outputs": [],
   "source": [
    "iscraper.authenticate_as_guest()"
   ]
  },
  {
   "cell_type": "code",
   "execution_count": 6,
   "metadata": {
    "ExecuteTime": {
     "end_time": "2019-03-24T21:03:16.447848Z",
     "start_time": "2019-03-24T21:03:16.423413Z"
    }
   },
   "outputs": [
    {
     "data": {
      "text/plain": [
       "['kyliejenner']"
      ]
     },
     "execution_count": 6,
     "metadata": {},
     "output_type": "execute_result"
    }
   ],
   "source": [
    "iscraper.usernames"
   ]
  },
  {
   "cell_type": "code",
   "execution_count": 7,
   "metadata": {
    "ExecuteTime": {
     "end_time": "2019-03-24T21:03:38.643648Z",
     "start_time": "2019-03-24T21:03:17.011413Z"
    }
   },
   "outputs": [],
   "source": [
    "iscraper.scrape()"
   ]
  },
  {
   "cell_type": "code",
   "execution_count": 2,
   "metadata": {
    "ExecuteTime": {
     "end_time": "2019-03-24T21:06:21.925789Z",
     "start_time": "2019-03-24T21:06:21.791229Z"
    }
   },
   "outputs": [],
   "source": [
    "!ls -lh ../data/"
   ]
  },
  {
   "cell_type": "code",
   "execution_count": null,
   "metadata": {},
   "outputs": [],
   "source": []
  }
 ],
 "metadata": {
  "kernelspec": {
   "display_name": "muimui",
   "language": "python",
   "name": "myenv"
  },
  "language_info": {
   "codemirror_mode": {
    "name": "ipython",
    "version": 3
   },
   "file_extension": ".py",
   "mimetype": "text/x-python",
   "name": "python",
   "nbconvert_exporter": "python",
   "pygments_lexer": "ipython3",
   "version": "3.7.1"
  },
  "toc": {
   "base_numbering": 1,
   "nav_menu": {},
   "number_sections": true,
   "sideBar": true,
   "skip_h1_title": false,
   "title_cell": "Table of Contents",
   "title_sidebar": "Contents",
   "toc_cell": false,
   "toc_position": {},
   "toc_section_display": true,
   "toc_window_display": false
  }
 },
 "nbformat": 4,
 "nbformat_minor": 2
}
