{
 "cells": [
  {
   "cell_type": "code",
   "execution_count": 218,
   "metadata": {
    "ExecuteTime": {
     "end_time": "2019-04-02T03:43:24.696759Z",
     "start_time": "2019-04-02T03:43:24.693599Z"
    }
   },
   "outputs": [],
   "source": [
    "import requests\n",
    "from bs4 import BeautifulSoup\n",
    "import csv"
   ]
  },
  {
   "cell_type": "code",
   "execution_count": 219,
   "metadata": {
    "ExecuteTime": {
     "end_time": "2019-04-02T03:43:25.860702Z",
     "start_time": "2019-04-02T03:43:25.857808Z"
    }
   },
   "outputs": [],
   "source": [
    "import time\n",
    "from selenium import webdriver\n",
    "from selenium.webdriver.support.ui import WebDriverWait"
   ]
  },
  {
   "cell_type": "code",
   "execution_count": 220,
   "metadata": {
    "ExecuteTime": {
     "end_time": "2019-04-02T03:43:26.831615Z",
     "start_time": "2019-04-02T03:43:26.825970Z"
    }
   },
   "outputs": [],
   "source": [
    "import pandas as pd"
   ]
  },
  {
   "cell_type": "code",
   "execution_count": 259,
   "metadata": {
    "ExecuteTime": {
     "end_time": "2019-04-02T04:08:58.257291Z",
     "start_time": "2019-04-02T04:08:54.637033Z"
    }
   },
   "outputs": [],
   "source": [
    "driver = webdriver.Chrome('/usr/local/bin/chromedriver')\n",
    "driver.wait = WebDriverWait(driver, 1000)\n",
    "driver.get('https://bananarepublic.gap.com/browse/category.do?cid=48422&mlink=16245357,topNavNA,visnav&clink=16245357')"
   ]
  },
  {
   "cell_type": "code",
   "execution_count": 266,
   "metadata": {
    "ExecuteTime": {
     "end_time": "2019-04-02T04:10:53.359874Z",
     "start_time": "2019-04-02T04:10:53.348591Z"
    }
   },
   "outputs": [],
   "source": [
    "driver.execute_script(\"window.scrollTo(20000, 30000);\")"
   ]
  },
  {
   "cell_type": "code",
   "execution_count": 267,
   "metadata": {
    "ExecuteTime": {
     "end_time": "2019-04-02T04:10:58.527647Z",
     "start_time": "2019-04-02T04:10:58.408661Z"
    }
   },
   "outputs": [],
   "source": [
    "main_page = driver.page_source\n",
    "main_soup = BeautifulSoup(main_page, \"lxml\")"
   ]
  },
  {
   "cell_type": "code",
   "execution_count": 273,
   "metadata": {
    "ExecuteTime": {
     "end_time": "2019-04-02T04:15:22.263865Z",
     "start_time": "2019-04-02T04:15:22.256662Z"
    }
   },
   "outputs": [],
   "source": [
    "def scrape(prod_pages,prod_names,prod_prices,prod_images,main_soup):\n",
    "    for item in main_soup.find_all('div', {'class': 'product-card'}):\n",
    "        url = item.find('a', {'class': 'product-card__link'})\n",
    "        if url:\n",
    "            url = url['href']\n",
    "        else:\n",
    "            url = None\n",
    "        prod_pages.append(url)\n",
    "        img = item.find('div',{'class':'product-card__image-wrapper'})\n",
    "        if img:\n",
    "            img_src = img.img['src']\n",
    "            name = img.img['alt']\n",
    "        else:\n",
    "            img_src = None\n",
    "            name = None\n",
    "        prod_images.append(img_src)\n",
    "        prod_names.append(name)\n",
    "        price = item.find('div',{'class':'product-card-price'})\n",
    "        if price:\n",
    "            prod_price = price.div.span.get_text()\n",
    "        else:\n",
    "            prod_price = None\n",
    "        prod_prices.append(prod_price)\n",
    "    return prod_pages,prod_names,prod_prices,prod_images"
   ]
  },
  {
   "cell_type": "code",
   "execution_count": 288,
   "metadata": {
    "ExecuteTime": {
     "end_time": "2019-04-02T04:20:11.387232Z",
     "start_time": "2019-04-02T04:19:45.054180Z"
    }
   },
   "outputs": [],
   "source": [
    "prod_pages = []\n",
    "prod_names = []\n",
    "prod_prices = []\n",
    "prod_dp = []\n",
    "prod_images = []\n",
    "for i in range(100):\n",
    "    driver.execute_script(\"window.scrollTo(\"+str(i*500)+\", \"+str((i+1)*500)+\");\")\n",
    "    main_page = driver.page_source\n",
    "    main_soup = BeautifulSoup(main_page, \"lxml\")\n",
    "    prod_pages,prod_names,prod_prices,prod_images = scrape(prod_pages,prod_names,prod_prices,prod_images,main_soup)"
   ]
  },
  {
   "cell_type": "code",
   "execution_count": 289,
   "metadata": {
    "ExecuteTime": {
     "end_time": "2019-04-02T04:20:13.328160Z",
     "start_time": "2019-04-02T04:20:13.323736Z"
    }
   },
   "outputs": [
    {
     "data": {
      "text/plain": [
       "(30000, 30000, 30000, 30000)"
      ]
     },
     "execution_count": 289,
     "metadata": {},
     "output_type": "execute_result"
    }
   ],
   "source": [
    "len(prod_pages),len(prod_images),len(prod_names),len(prod_prices)"
   ]
  },
  {
   "cell_type": "code",
   "execution_count": 305,
   "metadata": {
    "ExecuteTime": {
     "end_time": "2019-04-02T04:30:43.171135Z",
     "start_time": "2019-04-02T04:30:43.150646Z"
    }
   },
   "outputs": [],
   "source": [
    "d = { 'image_link': prod_images,\n",
    "         'product_name': prod_names, \n",
    "        'link': prod_pages, \n",
    "         'price': prod_prices}\n",
    "    \n",
    "df = pd.DataFrame(d)\n",
    "df['domain'] = 'Banana Republic'"
   ]
  },
  {
   "cell_type": "code",
   "execution_count": 306,
   "metadata": {
    "ExecuteTime": {
     "end_time": "2019-04-02T04:30:43.821986Z",
     "start_time": "2019-04-02T04:30:43.749094Z"
    }
   },
   "outputs": [],
   "source": [
    "df = df.dropna().drop_duplicates()"
   ]
  },
  {
   "cell_type": "code",
   "execution_count": 309,
   "metadata": {
    "ExecuteTime": {
     "end_time": "2019-04-02T04:31:43.300608Z",
     "start_time": "2019-04-02T04:31:43.296990Z"
    }
   },
   "outputs": [],
   "source": [
    "df = df[['image_link','product_name','link','price','domain']]"
   ]
  },
  {
   "cell_type": "code",
   "execution_count": 316,
   "metadata": {
    "ExecuteTime": {
     "end_time": "2019-04-02T04:47:23.436934Z",
     "start_time": "2019-04-02T04:47:23.432430Z"
    }
   },
   "outputs": [],
   "source": [
    "df['price']=df.price.map(lambda x: float(x[1:]))"
   ]
  },
  {
   "cell_type": "code",
   "execution_count": 310,
   "metadata": {
    "ExecuteTime": {
     "end_time": "2019-04-02T04:31:52.452142Z",
     "start_time": "2019-04-02T04:31:52.444113Z"
    }
   },
   "outputs": [],
   "source": []
  },
  {
   "cell_type": "code",
   "execution_count": null,
   "metadata": {},
   "outputs": [],
   "source": []
  },
  {
   "cell_type": "code",
   "execution_count": null,
   "metadata": {},
   "outputs": [],
   "source": []
  },
  {
   "cell_type": "markdown",
   "metadata": {},
   "source": [
    "### Sales"
   ]
  },
  {
   "cell_type": "code",
   "execution_count": 312,
   "metadata": {
    "ExecuteTime": {
     "end_time": "2019-04-02T04:44:51.021516Z",
     "start_time": "2019-04-02T04:38:47.434546Z"
    }
   },
   "outputs": [],
   "source": [
    "# pants\n",
    "b = []\n",
    "driver = webdriver.Chrome('/usr/local/bin/chromedriver')\n",
    "driver.wait = WebDriverWait(driver, 1000)\n",
    "driver.get('https://bananarepublic.gap.com/browse/category.do?cid=67595&nvt=Hamburger%20Nav&nvt=women&nvt=special%20offers&nvt=50%25%20Off%20Select%20Pants%20')\n",
    "for i in range(140):\n",
    "    driver.execute_script(\"window.scrollTo(\"+str(i*300)+\", \"+str((i+1)*300)+\");\")\n",
    "    driver.wait = WebDriverWait(driver, 5)\n",
    "    links = driver.find_elements_by_class_name(\"product-card__image\")\n",
    "    urls = driver.find_elements_by_class_name(\"product-card__link\")\n",
    "    prices = driver.find_elements_by_class_name(\"product-price__no-strike\")\n",
    "    a = [(link.get_attribute('src'),link.get_attribute('alt')) for link in links]\n",
    "    c = [(url.get_attribute('href')) for url in urls]\n",
    "    d = [(price.get_attribute('aria-label')) for price in prices]\n",
    "    a = list(map(lambda x,y: x+(y,), a,c))\n",
    "    a = list(map(lambda x,y: x+(y,), a,d))\n",
    "    b = b+a\n",
    "\n",
    "b = list(set(b))"
   ]
  },
  {
   "cell_type": "code",
   "execution_count": 192,
   "metadata": {
    "ExecuteTime": {
     "end_time": "2019-04-01T05:48:51.292620Z",
     "start_time": "2019-04-01T05:48:51.285442Z"
    }
   },
   "outputs": [],
   "source": [
    "b = list(set(b))"
   ]
  },
  {
   "cell_type": "code",
   "execution_count": 194,
   "metadata": {
    "ExecuteTime": {
     "end_time": "2019-04-01T05:56:09.281649Z",
     "start_time": "2019-04-01T05:49:13.736215Z"
    }
   },
   "outputs": [],
   "source": [
    "# Favourites\n",
    "driver = webdriver.Chrome('/usr/local/bin/chromedriver')\n",
    "driver.wait = WebDriverWait(driver, 1000)\n",
    "driver.get('https://bananarepublic.gap.com/browse/category.do?cid=1128985&nvt=Hamburger%20Nav&nvt=women&nvt=special%20offers&nvt=50%25%20off%20Spring%20Faves')\n",
    "for i in range(140):\n",
    "    driver.execute_script(\"window.scrollTo(\"+str(i*300)+\", \"+str((i+1)*300)+\");\")\n",
    "    driver.wait = WebDriverWait(driver, 5)\n",
    "    links = driver.find_elements_by_class_name(\"product-card__image\")\n",
    "    urls = driver.find_elements_by_class_name(\"product-card__link\")\n",
    "    prices = driver.find_elements_by_class_name(\"product-price__no-strike\")\n",
    "    a = [(link.get_attribute('src'),link.get_attribute('alt')) for link in links]\n",
    "    c = [(url.get_attribute('href')) for url in urls]\n",
    "    d = [(price.get_attribute('aria-label')) for price in prices]\n",
    "    a = list(map(lambda x,y: x+(y,), a,c))\n",
    "    a = list(map(lambda x,y: x+(y,), a,d))\n",
    "    b = b+a\n",
    "\n",
    "b = list(set(b))"
   ]
  },
  {
   "cell_type": "code",
   "execution_count": 195,
   "metadata": {
    "ExecuteTime": {
     "end_time": "2019-04-01T05:56:15.761671Z",
     "start_time": "2019-04-01T05:56:15.757363Z"
    }
   },
   "outputs": [
    {
     "data": {
      "text/plain": [
       "402"
      ]
     },
     "execution_count": 195,
     "metadata": {},
     "output_type": "execute_result"
    }
   ],
   "source": [
    "len(b)"
   ]
  },
  {
   "cell_type": "code",
   "execution_count": 197,
   "metadata": {
    "ExecuteTime": {
     "end_time": "2019-04-01T06:04:23.582627Z",
     "start_time": "2019-04-01T05:58:18.118117Z"
    }
   },
   "outputs": [],
   "source": [
    "# dress\n",
    "driver = webdriver.Chrome('/usr/local/bin/chromedriver')\n",
    "driver.wait = WebDriverWait(driver, 1000)\n",
    "driver.get('https://bananarepublic.gap.com/browse/category.do?cid=69883&nvt=Left%20Nav&nvt=women&nvt=special%20offers&nvt=50%25%20off%20Select%20Dresses')\n",
    "for i in range(150):\n",
    "    driver.execute_script(\"window.scrollTo(\"+str(i*300)+\", \"+str((i+1)*300)+\");\")\n",
    "    driver.wait = WebDriverWait(driver, 5)\n",
    "    links = driver.find_elements_by_class_name(\"product-card__image\")\n",
    "    urls = driver.find_elements_by_class_name(\"product-card__link\")\n",
    "    prices = driver.find_elements_by_class_name(\"product-price__no-strike\")\n",
    "    a = [(link.get_attribute('src'),link.get_attribute('alt')) for link in links]\n",
    "    c = [(url.get_attribute('href')) for url in urls]\n",
    "    d = [(price.get_attribute('aria-label')) for price in prices]\n",
    "    a = list(map(lambda x,y: x+(y,), a,c))\n",
    "    a = list(map(lambda x,y: x+(y,), a,d))\n",
    "    b = b+a\n",
    "\n",
    "b = list(set(b))"
   ]
  },
  {
   "cell_type": "code",
   "execution_count": 200,
   "metadata": {
    "ExecuteTime": {
     "end_time": "2019-04-01T06:12:55.257844Z",
     "start_time": "2019-04-01T06:05:57.161355Z"
    }
   },
   "outputs": [],
   "source": [
    "# sweaters\n",
    "driver = webdriver.Chrome('/usr/local/bin/chromedriver')\n",
    "driver.wait = WebDriverWait(driver, 1000)\n",
    "driver.get('https://bananarepublic.gap.com/browse/category.do?cid=5032&nvt=Left%20Nav&nvt=women&nvt=special%20offers&nvt=50%25%20off%20select%20Sweaters')\n",
    "for i in range(150):\n",
    "    driver.execute_script(\"window.scrollTo(\"+str(i*300)+\", \"+str((i+1)*300)+\");\")\n",
    "    driver.wait = WebDriverWait(driver, 5)\n",
    "    links = driver.find_elements_by_class_name(\"product-card__image\")\n",
    "    urls = driver.find_elements_by_class_name(\"product-card__link\")\n",
    "    prices = driver.find_elements_by_class_name(\"product-price__no-strike\")\n",
    "    a = [(link.get_attribute('src'),link.get_attribute('alt')) for link in links]\n",
    "    c = [(url.get_attribute('href')) for url in urls]\n",
    "    d = [(price.get_attribute('aria-label')) for price in prices]\n",
    "    a = list(map(lambda x,y: x+(y,), a,c))\n",
    "    a = list(map(lambda x,y: x+(y,), a,d))\n",
    "    b = b+a\n",
    "\n",
    "b = list(set(b))"
   ]
  },
  {
   "cell_type": "code",
   "execution_count": 204,
   "metadata": {
    "ExecuteTime": {
     "end_time": "2019-04-01T06:17:00.480377Z",
     "start_time": "2019-04-01T06:17:00.476033Z"
    }
   },
   "outputs": [],
   "source": [
    "df = pd.DataFrame(b, columns=['image_link','product_name','link','price'])"
   ]
  },
  {
   "cell_type": "code",
   "execution_count": 211,
   "metadata": {
    "ExecuteTime": {
     "end_time": "2019-04-01T06:18:47.196464Z",
     "start_time": "2019-04-01T06:18:47.184467Z"
    }
   },
   "outputs": [],
   "source": [
    "df['price'] = df['price'].map(lambda x: float(x[5:]))"
   ]
  },
  {
   "cell_type": "code",
   "execution_count": 213,
   "metadata": {
    "ExecuteTime": {
     "end_time": "2019-04-01T06:19:38.111622Z",
     "start_time": "2019-04-01T06:19:38.102649Z"
    }
   },
   "outputs": [],
   "source": [
    "df['domain'] = 'Banana Republic'"
   ]
  },
  {
   "cell_type": "code",
   "execution_count": 215,
   "metadata": {
    "ExecuteTime": {
     "end_time": "2019-04-01T06:22:59.179335Z",
     "start_time": "2019-04-01T06:22:59.160616Z"
    }
   },
   "outputs": [],
   "source": [
    "df.to_csv('bananarepublic.csv')"
   ]
  },
  {
   "cell_type": "code",
   "execution_count": 318,
   "metadata": {
    "ExecuteTime": {
     "end_time": "2019-04-02T04:48:11.531453Z",
     "start_time": "2019-04-02T04:48:11.521424Z"
    }
   },
   "outputs": [],
   "source": [
    "df_sale = pd.read_csv('bananarepublic.csv')[['image_link','product_name','link','price','domain']]\n",
    "banana_republic = pd.concat([df,df_sale],axis=0)"
   ]
  },
  {
   "cell_type": "code",
   "execution_count": 319,
   "metadata": {
    "ExecuteTime": {
     "end_time": "2019-04-02T04:49:50.397349Z",
     "start_time": "2019-04-02T04:49:50.381688Z"
    }
   },
   "outputs": [],
   "source": [
    "banana_republic.to_csv('bananarepublic.csv')"
   ]
  },
  {
   "cell_type": "code",
   "execution_count": null,
   "metadata": {},
   "outputs": [],
   "source": []
  }
 ],
 "metadata": {
  "kernelspec": {
   "display_name": "Python 3",
   "language": "python",
   "name": "python3"
  },
  "language_info": {
   "codemirror_mode": {
    "name": "ipython",
    "version": 3
   },
   "file_extension": ".py",
   "mimetype": "text/x-python",
   "name": "python",
   "nbconvert_exporter": "python",
   "pygments_lexer": "ipython3",
   "version": "3.6.8"
  }
 },
 "nbformat": 4,
 "nbformat_minor": 2
}
