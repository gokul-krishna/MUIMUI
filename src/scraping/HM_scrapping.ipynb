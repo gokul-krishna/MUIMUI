{
 "cells": [
  {
   "cell_type": "code",
   "execution_count": 5,
   "metadata": {
    "ExecuteTime": {
     "end_time": "2019-03-27T07:16:47.552944Z",
     "start_time": "2019-03-27T07:16:47.550472Z"
    }
   },
   "outputs": [],
   "source": [
    "from bs4 import BeautifulSoup\n",
    "import requests\n",
    "import pandas as pd"
   ]
  },
  {
   "cell_type": "code",
   "execution_count": 15,
   "metadata": {
    "ExecuteTime": {
     "end_time": "2019-03-27T07:23:18.404701Z",
     "start_time": "2019-03-27T07:23:18.395529Z"
    }
   },
   "outputs": [],
   "source": [
    "def web_scrape(brand, url):\n",
    "    main_page = requests.get(url).content\n",
    "    main_soup = BeautifulSoup(main_page, \"lxml\")\n",
    "    \n",
    "    prod_pages = []\n",
    "    prod_names = []\n",
    "    prod_prices = []\n",
    "    prod_dp = []\n",
    "    prod_images = []\n",
    "    \n",
    "    for item in main_soup.find_all('a', {'class': 'item-link'}):\n",
    "        href = item.attrs['href']\n",
    "        item_link = 'https://www2.hm.com' + href\n",
    "        prod_pages.append(item_link)\n",
    "        \n",
    "        page = requests.get(item_link).content\n",
    "        soup = BeautifulSoup(page, \"lxml\")\n",
    "\n",
    "        name = soup.find('h1', {'class': 'primary product-item-headline'}).text.strip('\\r\\n\\t\\t\\t\\t\\t\\t\\t  ')\n",
    "        prod_names.append(name)\n",
    "\n",
    "        price = soup.find('span', {'class': 'price-value'}).text.strip('\\r\\n                $')\n",
    "        price = float(price)\n",
    "        prod_prices.append(price)\n",
    "\n",
    "        dp = soup.find('p', {'class': 'pdp-description-text'}).text\n",
    "        prod_dp.append(dp)\n",
    "\n",
    "        image = soup.find('div', {'class': 'product-detail-main-image-container'}).find('img').attrs['src']\n",
    "        url = 'http:' + image\n",
    "        prod_images.append(url)\n",
    "    \n",
    "    d = {'prod_page_link': prod_pages, 'image_link': prod_images,\n",
    "         'name': prod_names, 'price': prod_prices, 'description': prod_dp}\n",
    "    df = pd.DataFrame(d)\n",
    "    df['brand'] = brand\n",
    "    return df"
   ]
  },
  {
   "cell_type": "code",
   "execution_count": null,
   "metadata": {
    "ExecuteTime": {
     "end_time": "2019-03-27T07:23:29.958906Z",
     "start_time": "2019-03-27T07:23:19.436664Z"
    }
   },
   "outputs": [],
   "source": [
    "brand = 'H&M'\n",
    "url = 'https://www2.hm.com/en_us/women/products/view-all.html'\n",
    "df = web_scrape(brand, url)"
   ]
  },
  {
   "cell_type": "code",
   "execution_count": 18,
   "metadata": {
    "ExecuteTime": {
     "end_time": "2019-03-27T07:25:11.421025Z",
     "start_time": "2019-03-27T07:25:11.401456Z"
    }
   },
   "outputs": [
    {
     "data": {
      "text/html": [
       "<div>\n",
       "<style scoped>\n",
       "    .dataframe tbody tr th:only-of-type {\n",
       "        vertical-align: middle;\n",
       "    }\n",
       "\n",
       "    .dataframe tbody tr th {\n",
       "        vertical-align: top;\n",
       "    }\n",
       "\n",
       "    .dataframe thead th {\n",
       "        text-align: right;\n",
       "    }\n",
       "</style>\n",
       "<table border=\"1\" class=\"dataframe\">\n",
       "  <thead>\n",
       "    <tr style=\"text-align: right;\">\n",
       "      <th></th>\n",
       "      <th>prod_page_link</th>\n",
       "      <th>image_link</th>\n",
       "      <th>name</th>\n",
       "      <th>price</th>\n",
       "      <th>description</th>\n",
       "      <th>brand</th>\n",
       "    </tr>\n",
       "  </thead>\n",
       "  <tbody>\n",
       "    <tr>\n",
       "      <th>0</th>\n",
       "      <td>https://www2.hm.com/en_us/productpage.07749970...</td>\n",
       "      <td>http://lp2.hm.com/hmgoepprod?set=source[/c6/06...</td>\n",
       "      <td>Viscose Jumpsuit</td>\n",
       "      <td>19.99</td>\n",
       "      <td>Jumpsuit in soft, woven viscose fabric with a ...</td>\n",
       "      <td>H&amp;M</td>\n",
       "    </tr>\n",
       "    <tr>\n",
       "      <th>1</th>\n",
       "      <td>https://www2.hm.com/en_us/productpage.07488560...</td>\n",
       "      <td>http://lp2.hm.com/hmgoepprod?set=source[/7a/fb...</td>\n",
       "      <td>Jacquard-weave Wrapover Blouse</td>\n",
       "      <td>12.99</td>\n",
       "      <td>V-neck blouse in jacquard-weave viscose fabric...</td>\n",
       "      <td>H&amp;M</td>\n",
       "    </tr>\n",
       "    <tr>\n",
       "      <th>2</th>\n",
       "      <td>https://www2.hm.com/en_us/productpage.07408950...</td>\n",
       "      <td>http://lp2.hm.com/hmgoepprod?set=source[/1b/98...</td>\n",
       "      <td>A-line Denim Skirt</td>\n",
       "      <td>14.99</td>\n",
       "      <td>Short, A-line skirt in washed denim. Zip fly w...</td>\n",
       "      <td>H&amp;M</td>\n",
       "    </tr>\n",
       "    <tr>\n",
       "      <th>3</th>\n",
       "      <td>https://www2.hm.com/en_us/productpage.07488560...</td>\n",
       "      <td>http://lp2.hm.com/hmgoepprod?set=source[/d0/4f...</td>\n",
       "      <td>Jacquard-weave Wrapover Blouse</td>\n",
       "      <td>12.99</td>\n",
       "      <td>V-neck blouse in jacquard-weave viscose fabric...</td>\n",
       "      <td>H&amp;M</td>\n",
       "    </tr>\n",
       "    <tr>\n",
       "      <th>4</th>\n",
       "      <td>https://www2.hm.com/en_us/productpage.07488560...</td>\n",
       "      <td>http://lp2.hm.com/hmgoepprod?set=source[/62/46...</td>\n",
       "      <td>Jacquard-weave Wrapover Blouse</td>\n",
       "      <td>12.99</td>\n",
       "      <td>V-neck blouse in jacquard-weave viscose fabric...</td>\n",
       "      <td>H&amp;M</td>\n",
       "    </tr>\n",
       "  </tbody>\n",
       "</table>\n",
       "</div>"
      ],
      "text/plain": [
       "                                      prod_page_link  \\\n",
       "0  https://www2.hm.com/en_us/productpage.07749970...   \n",
       "1  https://www2.hm.com/en_us/productpage.07488560...   \n",
       "2  https://www2.hm.com/en_us/productpage.07408950...   \n",
       "3  https://www2.hm.com/en_us/productpage.07488560...   \n",
       "4  https://www2.hm.com/en_us/productpage.07488560...   \n",
       "\n",
       "                                          image_link  \\\n",
       "0  http://lp2.hm.com/hmgoepprod?set=source[/c6/06...   \n",
       "1  http://lp2.hm.com/hmgoepprod?set=source[/7a/fb...   \n",
       "2  http://lp2.hm.com/hmgoepprod?set=source[/1b/98...   \n",
       "3  http://lp2.hm.com/hmgoepprod?set=source[/d0/4f...   \n",
       "4  http://lp2.hm.com/hmgoepprod?set=source[/62/46...   \n",
       "\n",
       "                             name  price  \\\n",
       "0                Viscose Jumpsuit  19.99   \n",
       "1  Jacquard-weave Wrapover Blouse  12.99   \n",
       "2              A-line Denim Skirt  14.99   \n",
       "3  Jacquard-weave Wrapover Blouse  12.99   \n",
       "4  Jacquard-weave Wrapover Blouse  12.99   \n",
       "\n",
       "                                         description brand  \n",
       "0  Jumpsuit in soft, woven viscose fabric with a ...   H&M  \n",
       "1  V-neck blouse in jacquard-weave viscose fabric...   H&M  \n",
       "2  Short, A-line skirt in washed denim. Zip fly w...   H&M  \n",
       "3  V-neck blouse in jacquard-weave viscose fabric...   H&M  \n",
       "4  V-neck blouse in jacquard-weave viscose fabric...   H&M  "
      ]
     },
     "execution_count": 18,
     "metadata": {},
     "output_type": "execute_result"
    }
   ],
   "source": [
    "df.head()"
   ]
  },
  {
   "cell_type": "code",
   "execution_count": null,
   "metadata": {},
   "outputs": [],
   "source": []
  }
 ],
 "metadata": {
  "kernelspec": {
   "display_name": "Python 3",
   "language": "python",
   "name": "python3"
  },
  "language_info": {
   "codemirror_mode": {
    "name": "ipython",
    "version": 3
   },
   "file_extension": ".py",
   "mimetype": "text/x-python",
   "name": "python",
   "nbconvert_exporter": "python",
   "pygments_lexer": "ipython3",
   "version": "3.7.2"
  }
 },
 "nbformat": 4,
 "nbformat_minor": 2
}
